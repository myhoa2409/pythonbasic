{
 "cells": [
  {
   "cell_type": "code",
   "execution_count": 6,
   "id": "82267256",
   "metadata": {},
   "outputs": [
    {
     "name": "stdout",
     "output_type": "stream",
     "text": [
      "[5, 10, 15, 200, 25, 50, 20]\n"
     ]
    }
   ],
   "source": [
    "# Hãy tìm và thay thế số 20 đầu tiên trong list thành 200.\n",
    "list1 = [5, 10, 15, 20, 25, 50, 20]\n",
    "# kết quả [5, 10, 15, 200, 25, 50, 20]\n",
    "\n",
    "#đặt 1 biến kết quả result để gán giá trị i cho biến đó tính thứ tự rút index\n",
    "result = -1\n",
    "for i in range(len(list1)):\n",
    "    if list1[i] == 20:\n",
    "    #đặt hàm if để kiểm soát điều kiện\n",
    "        result = i\n",
    "        del list1[i]\n",
    "        #sau khi xóa xong ký tự đó thì thay thế ký tự mới vào chính chỗ đó\n",
    "        list1.insert(i,200)\n",
    "        #cuối cùng break vòng lặp để nó không chỉnh ký tự khác nếu xuất hiện 2 ký tự torng cùng 1 chuỗi\n",
    "        #sai thứ tự của break, đặt in ra trước break vòng lặp sau để xuất hiện kết quả\n",
    "        print(list1)\n",
    "        break"
   ]
  },
  {
   "cell_type": "code",
   "execution_count": null,
   "id": "d4e3eb77",
   "metadata": {},
   "outputs": [],
   "source": [
    "#ngoài ra còn có 1 hàm khác có thể thay thế cho bài tập này\n",
    "#replace\n",
    "#cùng xem hàm replace được sử dụng như thế nào\n",
    "#thử ha"
   ]
  }
 ],
 "metadata": {
  "kernelspec": {
   "display_name": "Python 3 (ipykernel)",
   "language": "python",
   "name": "python3"
  },
  "language_info": {
   "codemirror_mode": {
    "name": "ipython",
    "version": 3
   },
   "file_extension": ".py",
   "mimetype": "text/x-python",
   "name": "python",
   "nbconvert_exporter": "python",
   "pygments_lexer": "ipython3",
   "version": "3.10.2"
  }
 },
 "nbformat": 4,
 "nbformat_minor": 5
}
