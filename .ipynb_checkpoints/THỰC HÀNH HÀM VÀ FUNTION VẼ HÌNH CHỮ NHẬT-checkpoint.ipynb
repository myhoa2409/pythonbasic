{
 "cells": [
  {
   "cell_type": "code",
   "execution_count": 1,
   "id": "2b5f8c2d",
   "metadata": {},
   "outputs": [
    {
     "ename": "TurtleGraphicsError",
     "evalue": "bad color string: FFFFFF",
     "output_type": "error",
     "traceback": [
      "\u001b[1;31m---------------------------------------------------------------------------\u001b[0m",
      "\u001b[1;31mTurtleGraphicsError\u001b[0m                       Traceback (most recent call last)",
      "Input \u001b[1;32mIn [1]\u001b[0m, in \u001b[0;36m<module>\u001b[1;34m\u001b[0m\n\u001b[0;32m     30\u001b[0m p\u001b[38;5;241m.\u001b[39mgoto(\u001b[38;5;241m65\u001b[39m,\u001b[38;5;241m-\u001b[39m\u001b[38;5;241m25\u001b[39m)\n\u001b[0;32m     31\u001b[0m p\u001b[38;5;241m.\u001b[39mpendown()\n\u001b[1;32m---> 32\u001b[0m \u001b[43mrectangular\u001b[49m\u001b[43m(\u001b[49m\u001b[38;5;241;43m50\u001b[39;49m\u001b[43m,\u001b[49m\u001b[38;5;241;43m20\u001b[39;49m\u001b[43m,\u001b[49m\u001b[38;5;124;43m\"\u001b[39;49m\u001b[38;5;124;43m#EE4638\u001b[39;49m\u001b[38;5;124;43m\"\u001b[39;49m\u001b[43m,\u001b[49m\u001b[38;5;124;43m\"\u001b[39;49m\u001b[38;5;124;43mFFFFFF\u001b[39;49m\u001b[38;5;124;43m\"\u001b[39;49m\u001b[43m)\u001b[49m\n\u001b[0;32m     36\u001b[0m turtle\u001b[38;5;241m.\u001b[39mdone()\n",
      "Input \u001b[1;32mIn [1]\u001b[0m, in \u001b[0;36mrectangular\u001b[1;34m(l, w, color, fillcolor)\u001b[0m\n\u001b[0;32m      6\u001b[0m \u001b[38;5;28;01mdef\u001b[39;00m \u001b[38;5;21mrectangular\u001b[39m(l,w,color\u001b[38;5;241m=\u001b[39m\u001b[38;5;124m\"\u001b[39m\u001b[38;5;124m#EE4638\u001b[39m\u001b[38;5;124m\"\u001b[39m,fillcolor\u001b[38;5;241m=\u001b[39m\u001b[38;5;124m\"\u001b[39m\u001b[38;5;124m#4FE08E\u001b[39m\u001b[38;5;124m\"\u001b[39m):\n\u001b[0;32m      7\u001b[0m         p\u001b[38;5;241m.\u001b[39mcolor(color)\n\u001b[1;32m----> 8\u001b[0m         \u001b[43mp\u001b[49m\u001b[38;5;241;43m.\u001b[39;49m\u001b[43mfillcolor\u001b[49m\u001b[43m(\u001b[49m\u001b[43mfillcolor\u001b[49m\u001b[43m)\u001b[49m\n\u001b[0;32m      9\u001b[0m         \u001b[38;5;28;01mfor\u001b[39;00m i \u001b[38;5;129;01min\u001b[39;00m \u001b[38;5;28mrange\u001b[39m(\u001b[38;5;241m2\u001b[39m):\n\u001b[0;32m     10\u001b[0m             p\u001b[38;5;241m.\u001b[39mbegin_fill()\n",
      "File \u001b[1;32m~\\AppData\\Local\\Programs\\Python\\Python310\\lib\\turtle.py:2289\u001b[0m, in \u001b[0;36mTPen.fillcolor\u001b[1;34m(self, *args)\u001b[0m\n\u001b[0;32m   2261\u001b[0m \u001b[38;5;124;03m\"\"\" Return or set the fillcolor.\u001b[39;00m\n\u001b[0;32m   2262\u001b[0m \n\u001b[0;32m   2263\u001b[0m \u001b[38;5;124;03mArguments:\u001b[39;00m\n\u001b[1;32m   (...)\u001b[0m\n\u001b[0;32m   2286\u001b[0m \u001b[38;5;124;03m>>> turtle.fillcolor(0, .5, 0)\u001b[39;00m\n\u001b[0;32m   2287\u001b[0m \u001b[38;5;124;03m\"\"\"\u001b[39;00m\n\u001b[0;32m   2288\u001b[0m \u001b[38;5;28;01mif\u001b[39;00m args:\n\u001b[1;32m-> 2289\u001b[0m     color \u001b[38;5;241m=\u001b[39m \u001b[38;5;28;43mself\u001b[39;49m\u001b[38;5;241;43m.\u001b[39;49m\u001b[43m_colorstr\u001b[49m\u001b[43m(\u001b[49m\u001b[43margs\u001b[49m\u001b[43m)\u001b[49m\n\u001b[0;32m   2290\u001b[0m     \u001b[38;5;28;01mif\u001b[39;00m color \u001b[38;5;241m==\u001b[39m \u001b[38;5;28mself\u001b[39m\u001b[38;5;241m.\u001b[39m_fillcolor:\n\u001b[0;32m   2291\u001b[0m         \u001b[38;5;28;01mreturn\u001b[39;00m\n",
      "File \u001b[1;32m~\\AppData\\Local\\Programs\\Python\\Python310\\lib\\turtle.py:2697\u001b[0m, in \u001b[0;36mRawTurtle._colorstr\u001b[1;34m(self, args)\u001b[0m\n\u001b[0;32m   2696\u001b[0m \u001b[38;5;28;01mdef\u001b[39;00m \u001b[38;5;21m_colorstr\u001b[39m(\u001b[38;5;28mself\u001b[39m, args):\n\u001b[1;32m-> 2697\u001b[0m     \u001b[38;5;28;01mreturn\u001b[39;00m \u001b[38;5;28;43mself\u001b[39;49m\u001b[38;5;241;43m.\u001b[39;49m\u001b[43mscreen\u001b[49m\u001b[38;5;241;43m.\u001b[39;49m\u001b[43m_colorstr\u001b[49m\u001b[43m(\u001b[49m\u001b[43margs\u001b[49m\u001b[43m)\u001b[49m\n",
      "File \u001b[1;32m~\\AppData\\Local\\Programs\\Python\\Python310\\lib\\turtle.py:1159\u001b[0m, in \u001b[0;36mTurtleScreen._colorstr\u001b[1;34m(self, color)\u001b[0m\n\u001b[0;32m   1157\u001b[0m         \u001b[38;5;28;01mreturn\u001b[39;00m color\n\u001b[0;32m   1158\u001b[0m     \u001b[38;5;28;01melse\u001b[39;00m:\n\u001b[1;32m-> 1159\u001b[0m         \u001b[38;5;28;01mraise\u001b[39;00m TurtleGraphicsError(\u001b[38;5;124m\"\u001b[39m\u001b[38;5;124mbad color string: \u001b[39m\u001b[38;5;132;01m%s\u001b[39;00m\u001b[38;5;124m\"\u001b[39m \u001b[38;5;241m%\u001b[39m \u001b[38;5;28mstr\u001b[39m(color))\n\u001b[0;32m   1160\u001b[0m \u001b[38;5;28;01mtry\u001b[39;00m:\n\u001b[0;32m   1161\u001b[0m     r, g, b \u001b[38;5;241m=\u001b[39m color\n",
      "\u001b[1;31mTurtleGraphicsError\u001b[0m: bad color string: FFFFFF"
     ]
    }
   ],
   "source": [
    "# Vẽ nhà từ các khối hình chữ nhật có kích thước và màu khác nhau. \n",
    "import turtle\n",
    "p = turtle.Turtle()\n",
    "p.speed(5)\n",
    "p.getscreen().bgcolor(\"#38E1EE\")\n",
    "def rectangular(l,w,color=\"#EE4638\",fillcolor=\"#4FE08E\"):\n",
    "        p.color(color)\n",
    "        p.fillcolor(fillcolor)\n",
    "        for i in range(2):\n",
    "            p.begin_fill()\n",
    "            p.forward(l)\n",
    "            p.right(90)\n",
    "            p.forward(w)\n",
    "            p.right(90)\n",
    "            p.end_fill()\n",
    "            \n",
    "p.left(90)            \n",
    "rectangular(200,100)\n",
    "\n",
    "p.goto(-100,0)            \n",
    "rectangular(200,100)\n",
    "\n",
    "p.right(180)\n",
    "p.goto(0,0)\n",
    "rectangular(200,100)\n",
    "p.goto(100,0)\n",
    "rectangular(200,100)\n",
    "\n",
    "p.penup()\n",
    "p.goto(65,-25)\n",
    "p.pendown()\n",
    "rectangular(50,20,\"#EE4638\",\"FFFFFF\")\n",
    "\n",
    "p.penup()\n",
    "p.goto(65,-25)\n",
    "p.pendown()\n",
    "rectangular(50,20,\"#EE4638\",\"FFFFFF\")\n",
    "\n",
    "turtle.done()"
   ]
  },
  {
   "cell_type": "code",
   "execution_count": 51,
   "id": "64933036",
   "metadata": {},
   "outputs": [],
   "source": [
    "turtle.done()"
   ]
  }
 ],
 "metadata": {
  "kernelspec": {
   "display_name": "Python 3 (ipykernel)",
   "language": "python",
   "name": "python3"
  },
  "language_info": {
   "codemirror_mode": {
    "name": "ipython",
    "version": 3
   },
   "file_extension": ".py",
   "mimetype": "text/x-python",
   "name": "python",
   "nbconvert_exporter": "python",
   "pygments_lexer": "ipython3",
   "version": "3.10.2"
  }
 },
 "nbformat": 4,
 "nbformat_minor": 5
}
