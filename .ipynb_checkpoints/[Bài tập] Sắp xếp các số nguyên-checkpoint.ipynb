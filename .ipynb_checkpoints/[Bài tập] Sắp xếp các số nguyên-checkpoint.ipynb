{
 "cells": [
  {
   "cell_type": "code",
   "execution_count": 20,
   "id": "16a7bf3b",
   "metadata": {},
   "outputs": [
    {
     "name": "stdout",
     "output_type": "stream",
     "text": [
      "nhập số 1: 24\n",
      "nhập số 2: 68\n",
      "nhập số 3: 10\n",
      "Original numbers:  24 68 10\n",
      "Sorted numbers:  10 24 68\n"
     ]
    }
   ],
   "source": [
    "# Viết chương trình cho người dùng nhập vào 3 số nguyên bất kỳ, sau đó sẽ in ra thứ tự tăng dần của 3 số nguyên được nhập vào.\n",
    "num1 = int(input('nhập số 1: '))\n",
    "num2 = int(input('nhập số 2: '))\n",
    "num3 = int(input('nhập số 3: '))\n",
    "\n",
    "if num1 > num2 and num1 > num3:\n",
    "    max_1 = num1\n",
    "    if num2 > num3:\n",
    "        min_1 = num3\n",
    "        temp = num2\n",
    "    else:\n",
    "        min_1 = num2\n",
    "        temp = num3\n",
    "        \n",
    "        \n",
    "elif num2 > num1 and num2 > num3:\n",
    "    max_1 = num2\n",
    "    if num1 > num3:\n",
    "        min_1 = num3\n",
    "        temp = num1\n",
    "    else:\n",
    "        min_1 = num1\n",
    "        temp = num3\n",
    "        \n",
    "elif num3 > num1 and num3 > num2:\n",
    "    max_1 = num3\n",
    "    if num1 > num2:\n",
    "        min_1 = num2\n",
    "        temp = num1\n",
    "    else:\n",
    "        min_1 = num1\n",
    "        temp = num2   \n",
    "        a, b, c = (num1, num2, num3)\n",
    "print(\"Original numbers: \", num1, num2, num3)\n",
    "print(\"Sorted numbers: \", min_1,temp, max_1)"
   ]
  }
 ],
 "metadata": {
  "kernelspec": {
   "display_name": "Python 3 (ipykernel)",
   "language": "python",
   "name": "python3"
  },
  "language_info": {
   "codemirror_mode": {
    "name": "ipython",
    "version": 3
   },
   "file_extension": ".py",
   "mimetype": "text/x-python",
   "name": "python",
   "nbconvert_exporter": "python",
   "pygments_lexer": "ipython3",
   "version": "3.10.2"
  }
 },
 "nbformat": 4,
 "nbformat_minor": 5
}
