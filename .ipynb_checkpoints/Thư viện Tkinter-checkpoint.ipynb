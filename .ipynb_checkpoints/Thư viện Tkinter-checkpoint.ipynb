{
 "cells": [
  {
   "cell_type": "markdown",
   "id": "7637b45d",
   "metadata": {},
   "source": [
    "# Tkinter"
   ]
  },
  {
   "cell_type": "markdown",
   "id": "aef48c70",
   "metadata": {},
   "source": [
    "## Tkinter là gì?\n",
    "Tkinter là thư viện GUI tiêu chuẩn cho Python."
   ]
  },
  {
   "cell_type": "markdown",
   "id": "a555c9c5",
   "metadata": {},
   "source": [
    "## Các bước tạo ứng dụng Tkinter\n",
    "**Bước 1:** Import Tkinter module\n",
    "\n",
    "**Bước 2:** Tạo ra cửa số chính cho ứng dụng \n",
    "\n",
    "**Bước 3:** Thêm một số widget cho ứng dụng\n",
    "\n",
    "**Bước 4:** Tạo vòng lặp sự kiện chính để các hành động có thể diễn ra trên màn hình máy tính của người dùng\n"
   ]
  },
  {
   "cell_type": "markdown",
   "id": "f5a0f4e8",
   "metadata": {},
   "source": [
    "## Import Tkinter \n",
    "\n",
    "Cú pháp:\n",
    "\n",
    "`from tkinter import *`\n",
    "\n",
    "<b> Thêm thư viện: </b>"
   ]
  },
  {
   "cell_type": "code",
   "execution_count": 7,
   "id": "28a5f795",
   "metadata": {},
   "outputs": [],
   "source": [
    "from tkinter import *"
   ]
  },
  {
   "cell_type": "markdown",
   "id": "27f1704a",
   "metadata": {},
   "source": [
    "## Tạo ra cửa số cho ứng dụng\n",
    "\n",
    "Cú pháp:\n",
    "\n",
    "`<tên đối tượng> = Tk()`\n",
    "\n",
    "Đổi tiêu đề cửa số:\n",
    "\n",
    "`<tên đối tượng>.title(\"Tiêu đề mới\")`\n",
    "\n",
    "##### Lưu ý: ta cần thêm hàm `<tên đối tượng>.mainloop()` để cửa sổ hoạt động\n",
    "\n",
    "<b>Hãy khởi tạo một cửa sổ:</b>"
   ]
  },
  {
   "cell_type": "code",
   "execution_count": 44,
   "id": "3063eaa3",
   "metadata": {},
   "outputs": [
    {
     "data": {
      "text/plain": [
       "''"
      ]
     },
     "execution_count": 44,
     "metadata": {},
     "output_type": "execute_result"
    }
   ],
   "source": [
    "windows = Tk()\n",
    "windows.title('hello tkinter')"
   ]
  },
  {
   "cell_type": "code",
   "execution_count": 49,
   "id": "385b9262",
   "metadata": {},
   "outputs": [],
   "source": [
    "windows.mainloop()"
   ]
  },
  {
   "cell_type": "markdown",
   "id": "6a7f27d7",
   "metadata": {},
   "source": [
    "## Thêm widget cho ứng dụng\n",
    "\n",
    "\n",
    "Widget là những đối tượng sẽ hiển thị và hoạt động trên cửa số\n",
    "\n",
    "Có rất nhiều loại Widget như: nút nhấn (button), nhãn (label), khung nhập dữ liệu (Entry),..."
   ]
  },
  {
   "cell_type": "code",
   "execution_count": 48,
   "id": "396c5f84",
   "metadata": {},
   "outputs": [],
   "source": [
    "login_text.pack()\n",
    "username_text.pack()\n",
    "username_input.pack()\n",
    "password_text.pack()\n",
    "password_input.pack()\n",
    "login_btn.pack()"
   ]
  },
  {
   "cell_type": "markdown",
   "id": "50cf878f",
   "metadata": {},
   "source": [
    "## label\n",
    "\n",
    "Cú pháp:\n",
    "\n",
    "`<tên đối tượng> = Label(<cửa số>,text = <nội dung>)`"
   ]
  },
  {
   "cell_type": "code",
   "execution_count": 45,
   "id": "6826b7e0",
   "metadata": {},
   "outputs": [],
   "source": [
    "login_text = Label(windows, text='LOGIN')\n",
    "username_text = Label(windows, text='Username')\n",
    "password_text = Label(windows, text='Password')\n",
    "\n"
   ]
  },
  {
   "cell_type": "markdown",
   "id": "fbf4ab01",
   "metadata": {},
   "source": [
    "## entry\n",
    "\n",
    "Cú pháp:\n",
    "\n",
    "`<tên đối tượng> = Entry(<cửa số>)`\n"
   ]
  },
  {
   "cell_type": "code",
   "execution_count": 46,
   "id": "a8dea346",
   "metadata": {},
   "outputs": [],
   "source": [
    "username_input = Entry(windows)\n",
    "password_input = Entry(windows)"
   ]
  },
  {
   "cell_type": "markdown",
   "id": "220d3157",
   "metadata": {},
   "source": [
    "## button\n",
    "\n",
    "Cú pháp:\n",
    "\n",
    "`<tên đối tượng> = Button(<cửa số>,text = <nội dung>)`"
   ]
  },
  {
   "cell_type": "code",
   "execution_count": 47,
   "id": "4376bd13",
   "metadata": {},
   "outputs": [],
   "source": [
    "login_btn = Button(windows, text='Login')"
   ]
  },
  {
   "cell_type": "code",
   "execution_count": 2,
   "id": "1503a864",
   "metadata": {},
   "outputs": [],
   "source": [
    "from tkinter import *\n",
    "windows = Tk()\n",
    "windows.title('Registration')\n",
    "\n",
    "Registration_text = Label(windows, text='Registration')\n",
    "fullname_text = Label(windows, text='Fullname')\n",
    "address_text = Label(windows, text='Address')\n",
    "email_text = Label(windows, text='Email')\n",
    "\n",
    "fullname_input = Entry(windows)\n",
    "address_input = Entry(windows)\n",
    "email_input = Entry(windows)\n",
    "\n",
    "Register_btn = Button(windows, text='Register')\n",
    "\n",
    "Registration_text.pack()\n",
    "fullname_text.pack()\n",
    "fullname_input.pack()\n",
    "address_text.pack()\n",
    "address_input.pack()\n",
    "email_text.pack()\n",
    "email_input.pack()\n",
    "\n",
    "Register_btn.pack()\n",
    "\n",
    "\n",
    "windows.mainloop()"
   ]
  },
  {
   "cell_type": "markdown",
   "id": "8bd06b13",
   "metadata": {},
   "source": [
    "## combobox"
   ]
  },
  {
   "cell_type": "code",
   "execution_count": 6,
   "id": "74694770",
   "metadata": {},
   "outputs": [],
   "source": [
    "from tkinter import *\n",
    "from tkinter.ttk import *\n",
    "windows =Tk()\n",
    "windows.title('Registration')\n",
    "\n",
    "register_lbl = Label(windows, text = 'Register')\n",
    "fullname_lbl = Label(windows, text = 'Full name')\n",
    "address_lbl = Label(windows, text = 'Address')\n",
    "email_lbl = Label(windows, text ='Email')\n",
    "\n",
    "fullname_entry = Entry(windows)\n",
    "address_entry = Entry(windows)\n",
    "email_entry = Entry(windows)\n",
    "\n",
    "btn_register = Button(windows, text = 'Register')\n",
    "btn_login = Button(windows, text = 'login')\n",
    "\n",
    "combo = Combobox(windows, state ='readonly')\n",
    "combo['value'] = ('monday','tuesday','wednesday','thursday')\n",
    "\n",
    "register_lbl.grid(row=0, column =0, columnspan =2)\n",
    "fullname_lbl.grid(row=1, column=0)\n",
    "email_lbl.grid(row=2, column=0)\n",
    "address_lbl.grid(row=3, column=0)\n",
    "\n",
    "fullname_entry.grid(row=1, column=1)\n",
    "address_entry.grid(row=3, column=1)\n",
    "email_entry.grid(row=2, column=1)\n",
    "\n",
    "btn_register.grid(row=4, column=2)\n",
    "btn_login.grid(row = 4, column =3)\n",
    "combo.grid(row=4, column =5)\n",
    "\n",
    "windows.mainloop()"
   ]
  },
  {
   "cell_type": "markdown",
   "id": "f5203893",
   "metadata": {},
   "source": [
    "## text"
   ]
  },
  {
   "cell_type": "code",
   "execution_count": 8,
   "id": "f822f455",
   "metadata": {},
   "outputs": [],
   "source": [
    "from tkinter import *\n",
    "from tkinter.ttk import *\n",
    "windows =Tk()\n",
    "windows.title('Registration')\n",
    "\n",
    "register_lbl = Label(windows, text = 'Register')\n",
    "fullname_lbl = Label(windows, text = 'Full name')\n",
    "address_lbl = Label(windows, text = 'Address')\n",
    "email_lbl = Label(windows, text ='Email')\n",
    "\n",
    "fullname_entry = Entry(windows)\n",
    "address_entry = Entry(windows)\n",
    "email_entry = Entry(windows)\n",
    "\n",
    "btn_register = Button(windows, text = 'Register')\n",
    "btn_login = Button(windows, text = 'login')\n",
    "\n",
    "combo = Combobox(windows, state ='readonly')\n",
    "combo['value'] = ('monday','tuesday','wednesday','thursday')\n",
    "\n",
    "text = Text(width =50, height = 5)\n",
    "\n",
    "register_lbl.grid(row=0, column =0, columnspan =2)\n",
    "fullname_lbl.grid(row=1, column=0)\n",
    "email_lbl.grid(row=2, column=0)\n",
    "address_lbl.grid(row=3, column=0)\n",
    "\n",
    "fullname_entry.grid(row=1, column=1)\n",
    "address_entry.grid(row=3, column=1)\n",
    "email_entry.grid(row=2, column=1)\n",
    "\n",
    "btn_register.grid(row=4, column=2)\n",
    "btn_login.grid(row = 4, column =3)\n",
    "combo.grid(row=4, column =5)\n",
    "text.grid(row =5, column =0, columnspan=3)\n",
    "\n",
    "\n",
    "windows.mainloop()"
   ]
  },
  {
   "cell_type": "markdown",
   "id": "7b58544c",
   "metadata": {},
   "source": [
    "## messagebox"
   ]
  },
  {
   "cell_type": "code",
   "execution_count": null,
   "id": "d721e682",
   "metadata": {},
   "outputs": [],
   "source": []
  },
  {
   "cell_type": "markdown",
   "id": "eebac94e",
   "metadata": {},
   "source": [
    "## checkbutton"
   ]
  },
  {
   "cell_type": "code",
   "execution_count": null,
   "id": "1e534acb",
   "metadata": {},
   "outputs": [],
   "source": []
  },
  {
   "cell_type": "code",
   "execution_count": 4,
   "id": "12554215",
   "metadata": {},
   "outputs": [
    {
     "ename": "NameError",
     "evalue": "name 'combobox' is not defined",
     "output_type": "error",
     "traceback": [
      "\u001b[1;31m---------------------------------------------------------------------------\u001b[0m",
      "\u001b[1;31mNameError\u001b[0m                                 Traceback (most recent call last)",
      "Input \u001b[1;32mIn [4]\u001b[0m, in \u001b[0;36m<module>\u001b[1;34m\u001b[0m\n\u001b[0;32m     15\u001b[0m btn_register \u001b[38;5;241m=\u001b[39m Button(windows, text \u001b[38;5;241m=\u001b[39m \u001b[38;5;124m'\u001b[39m\u001b[38;5;124mRegister\u001b[39m\u001b[38;5;124m'\u001b[39m)\n\u001b[0;32m     16\u001b[0m btn_login \u001b[38;5;241m=\u001b[39m Button(windows, text \u001b[38;5;241m=\u001b[39m \u001b[38;5;124m'\u001b[39m\u001b[38;5;124mlogin\u001b[39m\u001b[38;5;124m'\u001b[39m)\n\u001b[1;32m---> 18\u001b[0m combo \u001b[38;5;241m=\u001b[39m \u001b[43mcombobox\u001b[49m(windows, state \u001b[38;5;241m=\u001b[39m\u001b[38;5;124m'\u001b[39m\u001b[38;5;124mreadonly\u001b[39m\u001b[38;5;124m'\u001b[39m)\n\u001b[0;32m     19\u001b[0m combo[\u001b[38;5;124m'\u001b[39m\u001b[38;5;124mvalue\u001b[39m\u001b[38;5;124m'\u001b[39m] \u001b[38;5;241m=\u001b[39m (\u001b[38;5;124m'\u001b[39m\u001b[38;5;124mmonday\u001b[39m\u001b[38;5;124m'\u001b[39m,\u001b[38;5;124m'\u001b[39m\u001b[38;5;124mtuesday\u001b[39m\u001b[38;5;124m'\u001b[39m,\u001b[38;5;124m'\u001b[39m\u001b[38;5;124mwednesday\u001b[39m\u001b[38;5;124m'\u001b[39m,\u001b[38;5;124m'\u001b[39m\u001b[38;5;124mthursday\u001b[39m\u001b[38;5;124m'\u001b[39m)\n\u001b[0;32m     21\u001b[0m register_lbl\u001b[38;5;241m.\u001b[39mgrid(row\u001b[38;5;241m=\u001b[39m\u001b[38;5;241m0\u001b[39m, column \u001b[38;5;241m=\u001b[39m\u001b[38;5;241m0\u001b[39m, columnspan \u001b[38;5;241m=\u001b[39m\u001b[38;5;241m2\u001b[39m)\n",
      "\u001b[1;31mNameError\u001b[0m: name 'combobox' is not defined"
     ]
    }
   ],
   "source": [
    "from tkinter import *\n",
    "from tkinter.ttk import *\n",
    "windows =Tk()\n",
    "windows.title('Registration')\n",
    "\n",
    "register_lbl = Label(windows, text = 'Register')\n",
    "fullname_lbl = Label(windows, text = 'Full name')\n",
    "address_lbl = Label(windows, text = 'Address')\n",
    "email_lbl = Label(windows, text ='Email')\n",
    "\n",
    "fullname_entry = Entry(windows)\n",
    "address_entry = Entry(windows)\n",
    "email_entry = Entry(windows)\n",
    "\n",
    "btn_register = Button(windows, text = 'Register')\n",
    "btn_login = Button(windows, text = 'login')\n",
    "\n",
    "combo = combobox(windows, state ='readonly')\n",
    "combo['value'] = ('monday','tuesday','wednesday','thursday')\n",
    "\n",
    "register_lbl.grid(row=0, column =0, columnspan =2)\n",
    "fullname_lbl.grid(row=1, column=0)\n",
    "email_lbl.grid(row=2, column=0)\n",
    "address_lbl.grid(row=3, column=0)\n",
    "\n",
    "fullname_entry.grid(row=1, column=1)\n",
    "address_entry.grid(row=3, column=1)\n",
    "email_entry.grid(row=2, column=1)\n",
    "\n",
    "btn_register.grid(row=4, column=2)\n",
    "btn_login.grid(row = 4, column =3)\n",
    "combo.grid(row=4, column =5)\n",
    "\n",
    "windows.mainloop()"
   ]
  }
 ],
 "metadata": {
  "kernelspec": {
   "display_name": "Python 3 (ipykernel)",
   "language": "python",
   "name": "python3"
  },
  "language_info": {
   "codemirror_mode": {
    "name": "ipython",
    "version": 3
   },
   "file_extension": ".py",
   "mimetype": "text/x-python",
   "name": "python",
   "nbconvert_exporter": "python",
   "pygments_lexer": "ipython3",
   "version": "3.10.2"
  }
 },
 "nbformat": 4,
 "nbformat_minor": 5
}
