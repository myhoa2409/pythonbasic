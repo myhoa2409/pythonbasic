{
 "cells": [
  {
   "cell_type": "code",
   "execution_count": null,
   "id": "cb115100",
   "metadata": {},
   "outputs": [],
   "source": [
    "from tkinter import *\n",
    "from tkinter.ttk import *\n",
    "\n",
    "main_window = Tk()\n",
    "main_window.title(\"Registration\")\n",
    "\n",
    "main_title = Label(main_window, text = \"Registration\")\n",
    "fullname_field_name = Label(main_window, text = \"Full name\")\n",
    "address_field_name = Label(main_window, text = \"Address\")\n",
    "email_field_name = Label(main_window, text = \"Email\")\n",
    "fullname_field = Entry(main_window)\n",
    "address_field = Entry(main_window)\n",
    "email_field = Entry(main_window)\n",
    "combo = Combobox(main_window, state=\"readonly\")\n",
    "combo['value'] = ('@gmail.com','@outlook.com','@yahoo.com')\n",
    "reg_action = Button(main_window, text = \"Register\")\n",
    "\n",
    "main_title.grid(row = 0, column = 0, columnspan = 3)\n",
    "fullname_field_name.grid(row = 1, column = 0)\n",
    "fullname_field.grid(row = 1, column = 1)\n",
    "address_field_name.grid(row = 2, column = 0)\n",
    "address_field.grid(row = 2, column = 1)\n",
    "email_field_name.grid(row = 3, column = 0)\n",
    "email_field.grid(row = 3, column = 1)\n",
    "combo.grid(row = 3, column = 2)\n",
    "reg_action.grid(row = 4, column = 0, columnspan = 3)\n",
    "\n",
    "main_window.mainloop()"
   ]
  }
 ],
 "metadata": {
  "kernelspec": {
   "display_name": "Python 3 (ipykernel)",
   "language": "python",
   "name": "python3"
  },
  "language_info": {
   "codemirror_mode": {
    "name": "ipython",
    "version": 3
   },
   "file_extension": ".py",
   "mimetype": "text/x-python",
   "name": "python",
   "nbconvert_exporter": "python",
   "pygments_lexer": "ipython3",
   "version": "3.10.2"
  }
 },
 "nbformat": 4,
 "nbformat_minor": 5
}
