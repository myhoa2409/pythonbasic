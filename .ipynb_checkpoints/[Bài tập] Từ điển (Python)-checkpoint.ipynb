{
 "cells": [
  {
   "cell_type": "code",
   "execution_count": 6,
   "id": "bbf245db",
   "metadata": {},
   "outputs": [
    {
     "name": "stdout",
     "output_type": "stream",
     "text": [
      "nhập từ cần dịch: flower\n",
      "None\n"
     ]
    }
   ],
   "source": [
    "# Viết chương trình cho phép người dùng tra cứu các từ tiếng Anh sang tiếng Việt bằng cách nhập từ cần tra cứu. Danh sách các từ được lưu trữ sẵn trong một Dictionary.\n",
    "# Hướng dẫn\n",
    "# Bước 1: Khai báo hàm tìm và in ra từ sau khi được dịch\n",
    "Dict = {\"name\": \"tên\", \"course\": \"khóa học\", \"study\": \"học tập\",\"accomplish\": \"hoàn thành\", \"report\": \"báo cáo\", \"deadline\": \"thời hạn\" }       \n",
    "def find_word(word):\n",
    "    for key in Dict.keys():\n",
    "        if key == input_word:\n",
    "            return Dict[key]\n",
    "            \n",
    "input_word = input('nhập từ cần dịch: ')\n",
    "if find_word(input_word) != str():\n",
    "    print(find_word(input_word))\n",
    "else:\n",
    "    print('không tìm thấy từ này')"
   ]
  }
 ],
 "metadata": {
  "kernelspec": {
   "display_name": "Python 3 (ipykernel)",
   "language": "python",
   "name": "python3"
  },
  "language_info": {
   "codemirror_mode": {
    "name": "ipython",
    "version": 3
   },
   "file_extension": ".py",
   "mimetype": "text/x-python",
   "name": "python",
   "nbconvert_exporter": "python",
   "pygments_lexer": "ipython3",
   "version": "3.10.2"
  }
 },
 "nbformat": 4,
 "nbformat_minor": 5
}
