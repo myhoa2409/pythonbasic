{
 "cells": [
  {
   "cell_type": "code",
   "execution_count": 2,
   "id": "634f7ec7",
   "metadata": {},
   "outputs": [
    {
     "name": "stdout",
     "output_type": "stream",
     "text": [
      "nhập số tiền VND: 5000000\n",
      "nhập tỷ giá USD/VND: 20000\n",
      "250.0\n"
     ]
    }
   ],
   "source": [
    "    #[Bài tập] Ứng dụng chuyển đổi tiền tệ\n",
    "# Bước 1: Nhập số tiền USD cần đổi\n",
    "\n",
    "# Bước 2: Nhập tỉ giá USD/VND \n",
    "\n",
    "# Bước 3: Tính toán ra số tiền VND theo tỉ giá và số tiền USD nhập vào bên trên\n",
    "\n",
    "# # Bước 4: In ra kết quả\n",
    "\n",
    "VND = float(input(\"nhập số tiền VND: \"))\n",
    "ex = float(input(\"nhập tỷ giá USD/VND: \"))\n",
    "\n",
    "USD = VND / ex\n",
    "\n",
    "print(USD)"
   ]
  }
 ],
 "metadata": {
  "kernelspec": {
   "display_name": "Python 3 (ipykernel)",
   "language": "python",
   "name": "python3"
  },
  "language_info": {
   "codemirror_mode": {
    "name": "ipython",
    "version": 3
   },
   "file_extension": ".py",
   "mimetype": "text/x-python",
   "name": "python",
   "nbconvert_exporter": "python",
   "pygments_lexer": "ipython3",
   "version": "3.10.2"
  }
 },
 "nbformat": 4,
 "nbformat_minor": 5
}
