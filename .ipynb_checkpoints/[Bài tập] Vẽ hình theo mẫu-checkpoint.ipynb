{
 "cells": [
  {
   "cell_type": "code",
   "execution_count": 4,
   "id": "46116395",
   "metadata": {},
   "outputs": [],
   "source": [
    "import turtle\n",
    "p = turtle.Turtle()\n",
    "p.speed(20)\n",
    "\n",
    "i = 10\n",
    "while i <= 90:\n",
    "        p.circle(i,steps = 90)\n",
    "        i += 10\n",
    "turtle.done()\n"
   ]
  }
 ],
 "metadata": {
  "kernelspec": {
   "display_name": "Python 3 (ipykernel)",
   "language": "python",
   "name": "python3"
  },
  "language_info": {
   "codemirror_mode": {
    "name": "ipython",
    "version": 3
   },
   "file_extension": ".py",
   "mimetype": "text/x-python",
   "name": "python",
   "nbconvert_exporter": "python",
   "pygments_lexer": "ipython3",
   "version": "3.10.2"
  }
 },
 "nbformat": 4,
 "nbformat_minor": 5
}
