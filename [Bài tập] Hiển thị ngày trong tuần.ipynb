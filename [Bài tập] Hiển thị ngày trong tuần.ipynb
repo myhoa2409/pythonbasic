{
 "cells": [
  {
   "cell_type": "code",
   "execution_count": 2,
   "id": "e77f16b1",
   "metadata": {},
   "outputs": [
    {
     "name": "stdout",
     "output_type": "stream",
     "text": [
      "nhập số: 9\n",
      "Error, out of range\n"
     ]
    }
   ],
   "source": [
    "# Mô tả\n",
    "# Viết chương trình yêu cầu người dùng nhập một số trong phạm vi từ 1 đến 7. Sau đó hãy in ra ngày tương ứng: \n",
    "\n",
    "# 1: Monday\n",
    "\n",
    "# 2: Tuesday\n",
    "\n",
    "# 3: Wednesday\n",
    "\n",
    "# 4: Thursday\n",
    "\n",
    "# 5: Friday\n",
    "\n",
    "# 6: Saturday\n",
    "\n",
    "# 7: Sunday\n",
    "\n",
    "# Nếu người dùng nhập số ngoài phạm vi từ 1 đến 7 thì hãy in ra “error, out of range”.\n",
    "\n",
    "# Hướng dẫn\n",
    "# Sử dụng function: input() để nhập một số bất kì, sau đó chuyển kiểu về int. Kiểm tra số nhập vào có thoã các điều kiện hay không?\n",
    "\n",
    "# Nếu bẳng 1: Monday,\n",
    "# Hoặc nếu bằng 2: Tuesday,\n",
    "# …\n",
    "# Hoặc nếu bằng 7: Sunday,\n",
    "# Ngoài ra: “error, out of range”\n",
    "\n",
    "num = int(input(\"nhập số: \"))\n",
    "if num == 1:\n",
    "    print(\"Monday\")\n",
    "elif num == 2:\n",
    "    print(\"Tuesday\")\n",
    "elif num == 3:\n",
    "    print(\"Wednesday\")\n",
    "elif num == 4:\n",
    "    print(\"Thursday\")\n",
    "elif num == 5:\n",
    "    print(\"Friday\")\n",
    "elif num == 6:\n",
    "    print(\"Saturday\")\n",
    "elif num == 7:\n",
    "    print(\"Sunday\")\n",
    "else:\n",
    "    print(\"Error, out of range\")"
   ]
  }
 ],
 "metadata": {
  "kernelspec": {
   "display_name": "Python 3 (ipykernel)",
   "language": "python",
   "name": "python3"
  },
  "language_info": {
   "codemirror_mode": {
    "name": "ipython",
    "version": 3
   },
   "file_extension": ".py",
   "mimetype": "text/x-python",
   "name": "python",
   "nbconvert_exporter": "python",
   "pygments_lexer": "ipython3",
   "version": "3.10.2"
  }
 },
 "nbformat": 4,
 "nbformat_minor": 5
}
