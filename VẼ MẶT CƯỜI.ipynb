{
 "cells": [
  {
   "cell_type": "code",
   "execution_count": 52,
   "id": "171cd223",
   "metadata": {},
   "outputs": [
    {
     "ename": "TclError",
     "evalue": "invalid command name \".!canvas\"",
     "output_type": "error",
     "traceback": [
      "\u001b[1;31m---------------------------------------------------------------------------\u001b[0m",
      "\u001b[1;31mTclError\u001b[0m                                  Traceback (most recent call last)",
      "Input \u001b[1;32mIn [52]\u001b[0m, in \u001b[0;36m<module>\u001b[1;34m\u001b[0m\n\u001b[0;32m     13\u001b[0m pen\u001b[38;5;241m.\u001b[39mgoto(\u001b[38;5;241m0\u001b[39m,\u001b[38;5;241m-\u001b[39m\u001b[38;5;241m200\u001b[39m)\n\u001b[0;32m     14\u001b[0m pen\u001b[38;5;241m.\u001b[39mpendown()\n\u001b[1;32m---> 15\u001b[0m \u001b[43mpen\u001b[49m\u001b[38;5;241;43m.\u001b[39;49m\u001b[43mcircle\u001b[49m\u001b[43m(\u001b[49m\u001b[43mface_size\u001b[49m\u001b[43m)\u001b[49m\n\u001b[0;32m     16\u001b[0m pen\u001b[38;5;241m.\u001b[39mend_fill()\n\u001b[0;32m     17\u001b[0m \u001b[38;5;66;03m#vẽ mắt\u001b[39;00m\n",
      "File \u001b[1;32m~\\AppData\\Local\\Programs\\Python\\Python310\\lib\\turtle.py:1992\u001b[0m, in \u001b[0;36mTNavigator.circle\u001b[1;34m(self, radius, extent, steps)\u001b[0m\n\u001b[0;32m   1990\u001b[0m \u001b[38;5;28;01mfor\u001b[39;00m i \u001b[38;5;129;01min\u001b[39;00m \u001b[38;5;28mrange\u001b[39m(steps):\n\u001b[0;32m   1991\u001b[0m     \u001b[38;5;28mself\u001b[39m\u001b[38;5;241m.\u001b[39mspeed(speed)\n\u001b[1;32m-> 1992\u001b[0m     \u001b[38;5;28;43mself\u001b[39;49m\u001b[38;5;241;43m.\u001b[39;49m\u001b[43m_go\u001b[49m\u001b[43m(\u001b[49m\u001b[43ml\u001b[49m\u001b[43m)\u001b[49m\n\u001b[0;32m   1993\u001b[0m     \u001b[38;5;28mself\u001b[39m\u001b[38;5;241m.\u001b[39mspeed(\u001b[38;5;241m0\u001b[39m)\n\u001b[0;32m   1994\u001b[0m     \u001b[38;5;28mself\u001b[39m\u001b[38;5;241m.\u001b[39m_rotate(w)\n",
      "File \u001b[1;32m~\\AppData\\Local\\Programs\\Python\\Python310\\lib\\turtle.py:1606\u001b[0m, in \u001b[0;36mTNavigator._go\u001b[1;34m(self, distance)\u001b[0m\n\u001b[0;32m   1604\u001b[0m \u001b[38;5;124;03m\"\"\"move turtle forward by specified distance\"\"\"\u001b[39;00m\n\u001b[0;32m   1605\u001b[0m ende \u001b[38;5;241m=\u001b[39m \u001b[38;5;28mself\u001b[39m\u001b[38;5;241m.\u001b[39m_position \u001b[38;5;241m+\u001b[39m \u001b[38;5;28mself\u001b[39m\u001b[38;5;241m.\u001b[39m_orient \u001b[38;5;241m*\u001b[39m distance\n\u001b[1;32m-> 1606\u001b[0m \u001b[38;5;28;43mself\u001b[39;49m\u001b[38;5;241;43m.\u001b[39;49m\u001b[43m_goto\u001b[49m\u001b[43m(\u001b[49m\u001b[43mende\u001b[49m\u001b[43m)\u001b[49m\n",
      "File \u001b[1;32m~\\AppData\\Local\\Programs\\Python\\Python310\\lib\\turtle.py:3183\u001b[0m, in \u001b[0;36mRawTurtle._goto\u001b[1;34m(self, end)\u001b[0m\n\u001b[0;32m   3181\u001b[0m         \u001b[38;5;28mself\u001b[39m\u001b[38;5;241m.\u001b[39m_update()\n\u001b[0;32m   3182\u001b[0m     \u001b[38;5;28;01mif\u001b[39;00m \u001b[38;5;28mself\u001b[39m\u001b[38;5;241m.\u001b[39m_drawing:\n\u001b[1;32m-> 3183\u001b[0m         \u001b[43mscreen\u001b[49m\u001b[38;5;241;43m.\u001b[39;49m\u001b[43m_drawline\u001b[49m\u001b[43m(\u001b[49m\u001b[38;5;28;43mself\u001b[39;49m\u001b[38;5;241;43m.\u001b[39;49m\u001b[43mdrawingLineItem\u001b[49m\u001b[43m,\u001b[49m\u001b[43m \u001b[49m\u001b[43m(\u001b[49m\u001b[43m(\u001b[49m\u001b[38;5;241;43m0\u001b[39;49m\u001b[43m,\u001b[49m\u001b[43m \u001b[49m\u001b[38;5;241;43m0\u001b[39;49m\u001b[43m)\u001b[49m\u001b[43m,\u001b[49m\u001b[43m \u001b[49m\u001b[43m(\u001b[49m\u001b[38;5;241;43m0\u001b[39;49m\u001b[43m,\u001b[49m\u001b[43m \u001b[49m\u001b[38;5;241;43m0\u001b[39;49m\u001b[43m)\u001b[49m\u001b[43m)\u001b[49m\u001b[43m,\u001b[49m\n\u001b[0;32m   3184\u001b[0m \u001b[43m                                       \u001b[49m\u001b[43mfill\u001b[49m\u001b[38;5;241;43m=\u001b[39;49m\u001b[38;5;124;43m\"\u001b[39;49m\u001b[38;5;124;43m\"\u001b[39;49m\u001b[43m,\u001b[49m\u001b[43m \u001b[49m\u001b[43mwidth\u001b[49m\u001b[38;5;241;43m=\u001b[39;49m\u001b[38;5;28;43mself\u001b[39;49m\u001b[38;5;241;43m.\u001b[39;49m\u001b[43m_pensize\u001b[49m\u001b[43m)\u001b[49m\n\u001b[0;32m   3185\u001b[0m \u001b[38;5;66;03m# Turtle now at end,\u001b[39;00m\n\u001b[0;32m   3186\u001b[0m \u001b[38;5;28;01mif\u001b[39;00m \u001b[38;5;28mself\u001b[39m\u001b[38;5;241m.\u001b[39m_drawing: \u001b[38;5;66;03m# now update currentLine\u001b[39;00m\n",
      "File \u001b[1;32m~\\AppData\\Local\\Programs\\Python\\Python310\\lib\\turtle.py:544\u001b[0m, in \u001b[0;36mTurtleScreenBase._drawline\u001b[1;34m(self, lineitem, coordlist, fill, width, top)\u001b[0m\n\u001b[0;32m    542\u001b[0m         cl\u001b[38;5;241m.\u001b[39mappend(x \u001b[38;5;241m*\u001b[39m \u001b[38;5;28mself\u001b[39m\u001b[38;5;241m.\u001b[39mxscale)\n\u001b[0;32m    543\u001b[0m         cl\u001b[38;5;241m.\u001b[39mappend(\u001b[38;5;241m-\u001b[39my \u001b[38;5;241m*\u001b[39m \u001b[38;5;28mself\u001b[39m\u001b[38;5;241m.\u001b[39myscale)\n\u001b[1;32m--> 544\u001b[0m     \u001b[38;5;28;43mself\u001b[39;49m\u001b[38;5;241;43m.\u001b[39;49m\u001b[43mcv\u001b[49m\u001b[38;5;241;43m.\u001b[39;49m\u001b[43mcoords\u001b[49m\u001b[43m(\u001b[49m\u001b[43mlineitem\u001b[49m\u001b[43m,\u001b[49m\u001b[43m \u001b[49m\u001b[38;5;241;43m*\u001b[39;49m\u001b[43mcl\u001b[49m\u001b[43m)\u001b[49m\n\u001b[0;32m    545\u001b[0m \u001b[38;5;28;01mif\u001b[39;00m fill \u001b[38;5;129;01mis\u001b[39;00m \u001b[38;5;129;01mnot\u001b[39;00m \u001b[38;5;28;01mNone\u001b[39;00m:\n\u001b[0;32m    546\u001b[0m     \u001b[38;5;28mself\u001b[39m\u001b[38;5;241m.\u001b[39mcv\u001b[38;5;241m.\u001b[39mitemconfigure(lineitem, fill\u001b[38;5;241m=\u001b[39mfill)\n",
      "File \u001b[1;32m<string>:1\u001b[0m, in \u001b[0;36mcoords\u001b[1;34m(self, *args, **kw)\u001b[0m\n",
      "File \u001b[1;32m~\\AppData\\Local\\Programs\\Python\\Python310\\lib\\tkinter\\__init__.py:2795\u001b[0m, in \u001b[0;36mCanvas.coords\u001b[1;34m(self, *args)\u001b[0m\n\u001b[0;32m   2791\u001b[0m \u001b[38;5;124;03m\"\"\"Return a list of coordinates for the item given in ARGS.\"\"\"\u001b[39;00m\n\u001b[0;32m   2792\u001b[0m \u001b[38;5;66;03m# XXX Should use _flatten on args\u001b[39;00m\n\u001b[0;32m   2793\u001b[0m \u001b[38;5;28;01mreturn\u001b[39;00m [\u001b[38;5;28mself\u001b[39m\u001b[38;5;241m.\u001b[39mtk\u001b[38;5;241m.\u001b[39mgetdouble(x) \u001b[38;5;28;01mfor\u001b[39;00m x \u001b[38;5;129;01min\u001b[39;00m\n\u001b[0;32m   2794\u001b[0m                    \u001b[38;5;28mself\u001b[39m\u001b[38;5;241m.\u001b[39mtk\u001b[38;5;241m.\u001b[39msplitlist(\n\u001b[1;32m-> 2795\u001b[0m            \u001b[38;5;28;43mself\u001b[39;49m\u001b[38;5;241;43m.\u001b[39;49m\u001b[43mtk\u001b[49m\u001b[38;5;241;43m.\u001b[39;49m\u001b[43mcall\u001b[49m\u001b[43m(\u001b[49m\u001b[43m(\u001b[49m\u001b[38;5;28;43mself\u001b[39;49m\u001b[38;5;241;43m.\u001b[39;49m\u001b[43m_w\u001b[49m\u001b[43m,\u001b[49m\u001b[43m \u001b[49m\u001b[38;5;124;43m'\u001b[39;49m\u001b[38;5;124;43mcoords\u001b[39;49m\u001b[38;5;124;43m'\u001b[39;49m\u001b[43m)\u001b[49m\u001b[43m \u001b[49m\u001b[38;5;241;43m+\u001b[39;49m\u001b[43m \u001b[49m\u001b[43margs\u001b[49m\u001b[43m)\u001b[49m)]\n",
      "\u001b[1;31mTclError\u001b[0m: invalid command name \".!canvas\""
     ]
    }
   ],
   "source": [
    "# vẽ hình tròn draw circle\n",
    "import turtle\n",
    "pen = turtle.Turtle()\n",
    "# chỉnh size, màu\n",
    "pen.pensize(5)\n",
    "pen.color(\"#B63E3E\")\n",
    "pen.fillcolor(\"#5CB63E\")\n",
    "pen.begin_fill()\n",
    "face_size = 200\n",
    "eye_size =17.5\n",
    "#vẽ mặt\n",
    "pen.penup()\n",
    "pen.goto(0,-200)\n",
    "pen.pendown()\n",
    "pen.circle(face_size)\n",
    "pen.end_fill()\n",
    "#vẽ mắt\n",
    "pen.fillcolor(\"#B66D3E\")\n",
    "pen.penup()\n",
    "pen.goto(-100,50)\n",
    "pen.pendown()\n",
    "\n",
    "pen.begin_fill()\n",
    "pen.circle(eye_size)\n",
    "pen.end_fill()\n",
    "\n",
    "\n",
    "pen.fillcolor(\"#B66D3E\")\n",
    "pen.penup()\n",
    "pen.goto(100,50)\n",
    "pen.pendown()\n",
    "\n",
    "pen.begin_fill()\n",
    "pen.circle(eye_size)\n",
    "pen.end_fill()\n",
    "\n",
    "#vẽ mũi nose\n",
    "pen.fillcolor(\"#B66D3E\")\n",
    "pen.penup()\n",
    "pen.goto(0,50)\n",
    "pen.pendown()\n",
    "pen.begin_fill()\n",
    "pen.circle(-70,steps=3)\n",
    "pen.end_fill()\n",
    "#smile\n",
    "pen.penup()\n",
    "pen.goto(-100,-70)\n",
    "pen.pendown()\n",
    "pen.right(90)\n",
    "pen.circle(100,180)\n",
    "pen.mainloop()\n",
    "\n",
    "turtle.done()"
   ]
  },
  {
   "cell_type": "code",
   "execution_count": null,
   "id": "71c9ed45",
   "metadata": {},
   "outputs": [],
   "source": [
    "#tính diện tích hình tam giác\n",
    "a=10\n",
    "b=20\n",
    "c=15\n",
    "\n",
    "p=(a+b+c)/2\n",
    "\n",
    "s=(p*(p-a)*(p-b)*(p-c))**0.5\n",
    "\n",
    "print(s)"
   ]
  }
 ],
 "metadata": {
  "kernelspec": {
   "display_name": "Python 3 (ipykernel)",
   "language": "python",
   "name": "python3"
  },
  "language_info": {
   "codemirror_mode": {
    "name": "ipython",
    "version": 3
   },
   "file_extension": ".py",
   "mimetype": "text/x-python",
   "name": "python",
   "nbconvert_exporter": "python",
   "pygments_lexer": "ipython3",
   "version": "3.10.2"
  }
 },
 "nbformat": 4,
 "nbformat_minor": 5
}
