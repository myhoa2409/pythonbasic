{
 "cells": [
  {
   "cell_type": "code",
   "execution_count": 4,
   "id": "7dd3b29d",
   "metadata": {},
   "outputs": [
    {
     "name": "stdout",
     "output_type": "stream",
     "text": [
      "10\n"
     ]
    }
   ],
   "source": [
    "# [Bài tập] Tìm giá trị nhỏ nhất trong danh sách\n",
    "# Viết chương trình tìm giá trị nhỏ nhất trong mảng số cho trước\n",
    "numbers = [37,90,23,56,30,37,26,91,10]\n",
    "def get_min_numbers(numbers):\n",
    "    result = numbers[0]\n",
    "    for num in numbers:\n",
    "        if num < result:\n",
    "            result = num\n",
    "    print(result)\n",
    "get_min_numbers(numbers)"
   ]
  }
 ],
 "metadata": {
  "kernelspec": {
   "display_name": "Python 3 (ipykernel)",
   "language": "python",
   "name": "python3"
  },
  "language_info": {
   "codemirror_mode": {
    "name": "ipython",
    "version": 3
   },
   "file_extension": ".py",
   "mimetype": "text/x-python",
   "name": "python",
   "nbconvert_exporter": "python",
   "pygments_lexer": "ipython3",
   "version": "3.10.2"
  }
 },
 "nbformat": 4,
 "nbformat_minor": 5
}
