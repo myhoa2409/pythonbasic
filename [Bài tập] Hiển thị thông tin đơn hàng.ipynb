{
 "cells": [
  {
   "cell_type": "code",
   "execution_count": 2,
   "id": "66405534",
   "metadata": {},
   "outputs": [
    {
     "name": "stdout",
     "output_type": "stream",
     "text": [
      "nhập số tiền: 180\n",
      "Total:  130\n"
     ]
    }
   ],
   "source": [
    "# Mô tả\n",
    "# Viết chương trình hỏi người dùng đã chi bao nhiêu tiền tại cửa hàng.\n",
    "\n",
    "# Nếu họ chi ít hơn 75$, họ sẽ không được giảm giá.\n",
    "\n",
    "# Nếu họ chi 75$ trở lên, họ sẽ được giảm giá 15$.\n",
    "\n",
    "# Nếu người dùng chi từ 100$ trở lên, họ sẽ được giảm giá 25$.\n",
    "\n",
    "# Nếu người dùng chi từ 150$ trở lên, họ sẽ được giảm giá 50$.\n",
    "# Sau đó in ra tổng số tiền mà người dùng phải thanh toán.\n",
    "\n",
    "amount = int(input('nhập số tiền: '))\n",
    "\n",
    "if amount >= 150:\n",
    "    print(\"Total: \", amount - 50)\n",
    "elif amount >= 100:\n",
    "    print(\"Total: \", amount - 25)\n",
    "elif amount >= 75:\n",
    "    print(\"Total: \", amount - 15)\n",
    "else:\n",
    "    print(\"Total: \", amount)"
   ]
  }
 ],
 "metadata": {
  "kernelspec": {
   "display_name": "Python 3 (ipykernel)",
   "language": "python",
   "name": "python3"
  },
  "language_info": {
   "codemirror_mode": {
    "name": "ipython",
    "version": 3
   },
   "file_extension": ".py",
   "mimetype": "text/x-python",
   "name": "python",
   "nbconvert_exporter": "python",
   "pygments_lexer": "ipython3",
   "version": "3.10.2"
  }
 },
 "nbformat": 4,
 "nbformat_minor": 5
}
