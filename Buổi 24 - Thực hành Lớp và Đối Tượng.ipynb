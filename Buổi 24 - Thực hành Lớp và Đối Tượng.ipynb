{
 "cells": [
  {
   "cell_type": "markdown",
   "id": "ec00548e",
   "metadata": {},
   "source": [
    "# Thực hành Lớp và Đối Tượng "
   ]
  },
  {
   "cell_type": "markdown",
   "id": "e9a5b1b0",
   "metadata": {},
   "source": [
    "### Bài 1"
   ]
  },
  {
   "cell_type": "markdown",
   "id": "b89649bc",
   "metadata": {},
   "source": [
    "Viết một lớp point để lưu trữ một điểm trong hệ trục tọa độ Oxyz\n",
    "\n",
    "Class này có:\n",
    "\n",
    "<b> Các biến: </b>\n",
    "- <b>x</b>: mang tọa độ x của diểm\n",
    "- <b>y</b>: mang tọa độ y của diểm\n",
    "- <b>z</b>: mang tọa độ z của diểm\n",
    "\n",
    "<b> Các hàm: </b>\n",
    "- <b>khoangcachgoc:</b> hàm này trả về khoảng cách từ điểm đến điểm gốc(0,0,0)\n",
    "- <b>khoangcach(tham số đầu vào là 1 đối tượng có lớp point):</b> hàm này trả về khoảng cách từ điểm đến điểm được đưa vào\n",
    "- <b>diemdoixung:</b> hàm này trả về điểm đối của điểm qua điểm gốc(0,0,0)\n",
    "- <b>diemtrungbinh(tham số đầu vào là 1 đối tượng có lớp point):</b> hàm này trả về điểm nằm chính giữa điểm và điểm được đưa vào"
   ]
  },
  {
   "cell_type": "code",
   "execution_count": 46,
   "id": "ca30ea7d",
   "metadata": {},
   "outputs": [],
   "source": [
    "class point:\n",
    "    def __init__(self, x, y, z):\n",
    "        self.x = x\n",
    "        self.y = y\n",
    "        self.z = z\n",
    "    \n",
    "    def khoangcachgoc(self):\n",
    "        import math\n",
    "        khoangcachgoc  = math.sqrt((self.x) ** 2 + (self.y) ** 2 + (self.z) ** 2)\n",
    "        return khoangcachgoc\n",
    "    \n",
    "    def khoangcach(self, other):\n",
    "        import math\n",
    "        khoangcach  = math.sqrt((self.x - other.x) ** 2 + (self.y - other.y) ** 2 + (self.z - other.z) ** 2)\n",
    "        return khoangcach\n",
    "    \n",
    "    def diemdoixung(self):\n",
    "        diemdoixung  = (-self.x, -self.y, -self.z)\n",
    "        return diemdoixung\n",
    "    \n",
    "    def diemtrungbinh(self,other):\n",
    "        diemtrungbinh  = ((self.x + other.x)/ 2 + (self.y + other.y) / 2 + (self.z + other.z) / 2)\n",
    "        return diemtrungbinh"
   ]
  },
  {
   "cell_type": "code",
   "execution_count": 57,
   "id": "fff480f9",
   "metadata": {},
   "outputs": [
    {
     "ename": "TypeError",
     "evalue": "point.khoangcach() missing 1 required positional argument: 'other'",
     "output_type": "error",
     "traceback": [
      "\u001b[1;31m---------------------------------------------------------------------------\u001b[0m",
      "\u001b[1;31mTypeError\u001b[0m                                 Traceback (most recent call last)",
      "Input \u001b[1;32mIn [57]\u001b[0m, in \u001b[0;36m<module>\u001b[1;34m\u001b[0m\n\u001b[0;32m      1\u001b[0m Point \u001b[38;5;241m=\u001b[39m point(\u001b[38;5;241m1\u001b[39m,\u001b[38;5;241m2\u001b[39m,\u001b[38;5;241m3\u001b[39m)\n\u001b[1;32m----> 2\u001b[0m \u001b[43mPoint\u001b[49m\u001b[38;5;241;43m.\u001b[39;49m\u001b[43mkhoangcach\u001b[49m\u001b[43m(\u001b[49m\u001b[43m)\u001b[49m\n",
      "\u001b[1;31mTypeError\u001b[0m: point.khoangcach() missing 1 required positional argument: 'other'"
     ]
    }
   ],
   "source": [
    "Point = point(1,2,3)\n",
    "Point.khoangcach()"
   ]
  }
 ],
 "metadata": {
  "kernelspec": {
   "display_name": "Python 3 (ipykernel)",
   "language": "python",
   "name": "python3"
  },
  "language_info": {
   "codemirror_mode": {
    "name": "ipython",
    "version": 3
   },
   "file_extension": ".py",
   "mimetype": "text/x-python",
   "name": "python",
   "nbconvert_exporter": "python",
   "pygments_lexer": "ipython3",
   "version": "3.10.2"
  }
 },
 "nbformat": 4,
 "nbformat_minor": 5
}
