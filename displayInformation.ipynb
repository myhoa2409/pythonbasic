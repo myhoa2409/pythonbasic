{
 "cells": [
  {
   "cell_type": "code",
   "execution_count": 6,
   "id": "33494d59",
   "metadata": {},
   "outputs": [
    {
     "name": "stdout",
     "output_type": "stream",
     "text": [
      "personal information\n",
      "HELLO\n",
      "I'm My Hoa\n",
      "i'm an accountant\n",
      "nice to meet you\n"
     ]
    }
   ],
   "source": [
    "print('personal information')\n",
    "print (\"HELLO\")\n",
    "print(\"I'm My Hoa\")\n",
    "print(\"i'm an accountant\")\n",
    "print(\"nice to meet you\")"
   ]
  }
 ],
 "metadata": {
  "kernelspec": {
   "display_name": "Python 3 (ipykernel)",
   "language": "python",
   "name": "python3"
  },
  "language_info": {
   "codemirror_mode": {
    "name": "ipython",
    "version": 3
   },
   "file_extension": ".py",
   "mimetype": "text/x-python",
   "name": "python",
   "nbconvert_exporter": "python",
   "pygments_lexer": "ipython3",
   "version": "3.10.2"
  }
 },
 "nbformat": 4,
 "nbformat_minor": 5
}
