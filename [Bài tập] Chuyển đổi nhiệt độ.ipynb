{
 "cells": [
  {
   "cell_type": "code",
   "execution_count": 5,
   "id": "970755d9",
   "metadata": {},
   "outputs": [
    {
     "name": "stdout",
     "output_type": "stream",
     "text": [
      "nhập nhiệt độ C: 3\n",
      " chuyển đổi từ độ C sang độ F:  37.4\n"
     ]
    }
   ],
   "source": [
    "#[Bài tập] Chuyển đổi nhiệt độ\n",
    "#Bước 1: Dùng lệnh input để nhập dữ liệu từ bàn phím\n",
    "\n",
    "#Bước 2: Sử dụng công thức f = (9*(int(c))/5)+32 để chuyển đổi từ độ C sang độ F\n",
    "\n",
    "#Bước 3: In ra kết quả bằng lệnh print\n",
    "\n",
    "c = input(\"nhập nhiệt độ C: \")\n",
    "\n",
    "f = (9*(int(c))/5)+32\n",
    "\n",
    "print(\" chuyển đổi từ độ C sang độ F: \", f)\n"
   ]
  }
 ],
 "metadata": {
  "kernelspec": {
   "display_name": "Python 3 (ipykernel)",
   "language": "python",
   "name": "python3"
  },
  "language_info": {
   "codemirror_mode": {
    "name": "ipython",
    "version": 3
   },
   "file_extension": ".py",
   "mimetype": "text/x-python",
   "name": "python",
   "nbconvert_exporter": "python",
   "pygments_lexer": "ipython3",
   "version": "3.10.2"
  }
 },
 "nbformat": 4,
 "nbformat_minor": 5
}
