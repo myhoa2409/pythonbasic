{
 "cells": [
  {
   "cell_type": "code",
   "execution_count": 2,
   "id": "0182290c",
   "metadata": {},
   "outputs": [
    {
     "name": "stdout",
     "output_type": "stream",
     "text": [
      "nhập số 15.8\n",
      "15.8 không phải là số tự nhiên\n"
     ]
    }
   ],
   "source": [
    "# Sử dụng function: input() để nhập một số bất kì sau đó chuyển kiểu về float. Kiểm tra số nhập vào có chia hết cho 2 hay không?\n",
    "\n",
    "# Nếu chia hết cho 2: số chẵn\n",
    "# Nếu không chia hết cho 2 dư 1: số lẽ\n",
    "# Ngoài ra: không phải số tự nhiên.\n",
    "\n",
    "a = float(input('nhập số '))\n",
    "\n",
    "if a % 2 == 0:\n",
    "    print(f'{a} là số chẳn')\n",
    "elif a % 2 == 1:\n",
    "    print(f'{a} là số lẻ')\n",
    "else:\n",
    "    print(f'{a} không phải là số tự nhiên')"
   ]
  }
 ],
 "metadata": {
  "kernelspec": {
   "display_name": "Python 3 (ipykernel)",
   "language": "python",
   "name": "python3"
  },
  "language_info": {
   "codemirror_mode": {
    "name": "ipython",
    "version": 3
   },
   "file_extension": ".py",
   "mimetype": "text/x-python",
   "name": "python",
   "nbconvert_exporter": "python",
   "pygments_lexer": "ipython3",
   "version": "3.10.2"
  }
 },
 "nbformat": 4,
 "nbformat_minor": 5
}
