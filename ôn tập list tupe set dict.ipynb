{
 "cells": [
  {
   "cell_type": "markdown",
   "id": "505c330b",
   "metadata": {},
   "source": [
    "## bài 1\n",
    "viết hàmcó dữ liệu đầu vào số a và b số nào lớn hơn thì in ra bảng cửu chương số đó"
   ]
  },
  {
   "cell_type": "code",
   "execution_count": 7,
   "id": "90fc7404",
   "metadata": {
    "scrolled": true
   },
   "outputs": [
    {
     "name": "stdout",
     "output_type": "stream",
     "text": [
      "8 x 0 = 0\n",
      "8 x 1 = 8\n",
      "8 x 2 = 16\n",
      "8 x 3 = 24\n",
      "8 x 4 = 32\n",
      "8 x 5 = 40\n",
      "8 x 6 = 48\n",
      "8 x 7 = 56\n",
      "8 x 8 = 64\n",
      "8 x 9 = 72\n",
      "8 x 10 = 80\n"
     ]
    }
   ],
   "source": [
    "def find_numbermax(a,b):\n",
    "    if a > b:\n",
    "        for i in range(11):\n",
    "            print(f'{a} x {i} = {a*i}')\n",
    "    else:\n",
    "        for i in range(11):\n",
    "            print(f'{b} x {i} = {b*i}')\n",
    "            \n",
    "find_numbermax(5,8)"
   ]
  },
  {
   "cell_type": "markdown",
   "id": "ef22e4e6",
   "metadata": {},
   "source": [
    "## bài 2 \n",
    "Viết hàm `remove_string` có dữ liệu đầu vào là 2 chuỗi a và b, hãy tìm trong chuỗi a có chuỗi b hay không, nếu có hãy xóa toán bộ chuỗi b trong a.\n",
    "\n",
    "Sau đó trả về chuỗi a mới\n",
    "\n",
    "Ví dụ:\n",
    "\n",
    "chuoi1 = \"xin chào các bạn, các bạn có khỏe không?\"\n",
    "\n",
    "chuoi2 = \"các bạn\"\n",
    "\n",
    "chuoi3 = remove_string(chuoi1,chuoi2)\n",
    "\n",
    "print(chuoi3)\n",
    "\n",
    "Kết quả in ra là:\n",
    "xin chào ,  có khỏe không\n"
   ]
  },
  {
   "cell_type": "code",
   "execution_count": 29,
   "id": "8d723af0",
   "metadata": {},
   "outputs": [
    {
     "name": "stdout",
     "output_type": "stream",
     "text": [
      "xin chào ,  có khỏe không?\n"
     ]
    }
   ],
   "source": [
    "def remove_string(chuoi1, chuoi2):\n",
    "    if chuoi2 in chuoi1:\n",
    "        chuoi3 = chuoi1.replace(chuoi2,\"\")\n",
    "    return chuoi3\n",
    "          \n",
    "chuoi1 = \"xin chào các bạn, các bạn có khỏe không?\"\n",
    "\n",
    "chuoi2 = \"các bạn\"\n",
    "print(remove_string(chuoi1, chuoi2))"
   ]
  },
  {
   "cell_type": "markdown",
   "id": "c2b4509e",
   "metadata": {},
   "source": [
    "## bài 3:\n",
    "viết hàm nhận vào 3 số nguyên và trả về giá trị lớn thứ nhì trong 4 số nguyên đó"
   ]
  },
  {
   "cell_type": "code",
   "execution_count": 66,
   "id": "81592cb5",
   "metadata": {},
   "outputs": [
    {
     "name": "stdout",
     "output_type": "stream",
     "text": [
      "20\n"
     ]
    }
   ],
   "source": [
    "def arrange(a,b,c,d):\n",
    "    list1 = [a,b,c,d]\n",
    "    list_new = sorted(list1)\n",
    "    return list_new[-2]\n",
    "\n",
    "print(arrange(15,23,20,13))"
   ]
  },
  {
   "cell_type": "markdown",
   "id": "5ec729c8",
   "metadata": {},
   "source": [
    "## bài 4 "
   ]
  },
  {
   "cell_type": "code",
   "execution_count": 79,
   "id": "4dd856bd",
   "metadata": {},
   "outputs": [
    {
     "name": "stdout",
     "output_type": "stream",
     "text": [
      "['Finland', 'Taiwan', 'Japan', 'Russia', 'Brazil', 'Canada', 'Bulgaria', 'France', 'Greece', 'United States']\n"
     ]
    }
   ],
   "source": [
    "treepersqkm = {\"Finland\": 90652, \"Taiwan\": 69593, \"Japan\": 49894, \"Russia\": 41396, \"Brazil\": 39542, \"Canada\": 36388, \"Bulgaria\": 24987, \"France\": 24436, \"Greece\": 24323, \"United States\": 23513, \"Turkey\": 11126, \"India\": 11109, \"Denmark\": 6129, \"Syria\": 534, \"Saudi Arabia\": 1}\n",
    "def filter_countries(data):\n",
    "    result = []\n",
    "    for country in data:\n",
    "        if data[country] > 20000:\n",
    "            result.append(country)\n",
    "    return result\n",
    "    \n",
    "print(filter_countries(treepersqkm))"
   ]
  }
 ],
 "metadata": {
  "kernelspec": {
   "display_name": "Python 3 (ipykernel)",
   "language": "python",
   "name": "python3"
  },
  "language_info": {
   "codemirror_mode": {
    "name": "ipython",
    "version": 3
   },
   "file_extension": ".py",
   "mimetype": "text/x-python",
   "name": "python",
   "nbconvert_exporter": "python",
   "pygments_lexer": "ipython3",
   "version": "3.10.2"
  }
 },
 "nbformat": 4,
 "nbformat_minor": 5
}
