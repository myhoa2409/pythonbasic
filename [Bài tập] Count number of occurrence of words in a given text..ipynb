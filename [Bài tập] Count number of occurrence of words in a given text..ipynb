{
 "cells": [
  {
   "cell_type": "code",
   "execution_count": 35,
   "id": "8d7b211f",
   "metadata": {},
   "outputs": [
    {
     "name": "stdout",
     "output_type": "stream",
     "text": [
      "5\n"
     ]
    }
   ],
   "source": [
    "# Bước 1: Khai báo hàm đếm số lần xuất hiện của một từ trong một văn bản truyền vào\n",
    "# Function to Find the first repeated word in a string \n",
    "from collections import Counter \n",
    "  \n",
    "def firstRepeat(input): \n",
    "    words = input.split(' ') \n",
    "    \n",
    "    dict = Counter(words) \n",
    "    \n",
    "    for key in words:\n",
    "        if dict[key] > 1:\n",
    "            print(dict[key])\n",
    "            return\n",
    "                \n",
    "if __name__ == \"__main__\": \n",
    "    input = 'Ravi had been saying that he had been there had had had'\n",
    "    firstRepeat(input)"
   ]
  }
 ],
 "metadata": {
  "kernelspec": {
   "display_name": "Python 3 (ipykernel)",
   "language": "python",
   "name": "python3"
  },
  "language_info": {
   "codemirror_mode": {
    "name": "ipython",
    "version": 3
   },
   "file_extension": ".py",
   "mimetype": "text/x-python",
   "name": "python",
   "nbconvert_exporter": "python",
   "pygments_lexer": "ipython3",
   "version": "3.10.2"
  }
 },
 "nbformat": 4,
 "nbformat_minor": 5
}
