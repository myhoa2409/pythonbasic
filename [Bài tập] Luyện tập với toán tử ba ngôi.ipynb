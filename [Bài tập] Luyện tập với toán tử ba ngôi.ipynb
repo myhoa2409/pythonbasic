{
 "cells": [
  {
   "cell_type": "code",
   "execution_count": 5,
   "id": "cabc7289",
   "metadata": {},
   "outputs": [
    {
     "name": "stdout",
     "output_type": "stream",
     "text": [
      "input number: 15\n",
      "15 : odd\n"
     ]
    }
   ],
   "source": [
    "# # Nhập vào 1 số nguyên bất kì. Kiểm tra số nguyên nhập vào có chia hết cho 2 hay không?\n",
    "\n",
    "# Nếu chia hết cho 2: số chẵn\n",
    "# Nếu không chia hết cho 2 có dư : số lẻ\n",
    "# Demo:\n",
    "\n",
    "# num_check = ?\n",
    "\n",
    "# # USING TERNARY OPERATOR\n",
    "# msg = \"Even\" if num_check %2 == 0 else \"Odd\"\n",
    "# print(msg)\n",
    "\n",
    "# # USING USUAL IF-ELSE\n",
    "# msg = \"\"\n",
    "# if(num_check%2  == 0):\n",
    "# msg = \"Even\"\n",
    "# else:\n",
    "# msg = \"Odd\"\n",
    "# print(msg)ß\n",
    "\n",
    "nu = int(input('input number: '))\n",
    "\n",
    "print(f'{nu} : even') if nu % 2 == 0 else print(f'{nu} : odd')"
   ]
  }
 ],
 "metadata": {
  "kernelspec": {
   "display_name": "Python 3 (ipykernel)",
   "language": "python",
   "name": "python3"
  },
  "language_info": {
   "codemirror_mode": {
    "name": "ipython",
    "version": 3
   },
   "file_extension": ".py",
   "mimetype": "text/x-python",
   "name": "python",
   "nbconvert_exporter": "python",
   "pygments_lexer": "ipython3",
   "version": "3.10.2"
  }
 },
 "nbformat": 4,
 "nbformat_minor": 5
}
