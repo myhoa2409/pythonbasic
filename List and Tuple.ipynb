{
 "cells": [
  {
   "cell_type": "markdown",
   "metadata": {},
   "source": [
    "## Review: type()"
   ]
  },
  {
   "cell_type": "code",
   "execution_count": 1,
   "metadata": {},
   "outputs": [
    {
     "name": "stdout",
     "output_type": "stream",
     "text": [
      "<class 'int'>\n",
      "<class 'float'>\n",
      "<class 'bool'>\n",
      "<class 'str'>\n"
     ]
    }
   ],
   "source": [
    "# Python có 4 kiểu dữ liệu cơ bản\n",
    "print(type(4))\n",
    "print(type(10.5))\n",
    "print(type(True))\n",
    "print(type('hello Python'))"
   ]
  },
  {
   "cell_type": "markdown",
   "metadata": {},
   "source": [
    "## list là gì?"
   ]
  },
  {
   "cell_type": "code",
   "execution_count": null,
   "metadata": {},
   "outputs": [],
   "source": [
    "# Ví dụ\n",
    "a = 8\n",
    "b = 9\n",
    "diemvan = 10\n",
    "dientoan =9\n"
   ]
  },
  {
   "cell_type": "code",
   "execution_count": 5,
   "metadata": {},
   "outputs": [
    {
     "name": "stdout",
     "output_type": "stream",
     "text": [
      "monday\n",
      "tuesday\n",
      "wednesday\n",
      "thursday\n",
      "--------------------\n",
      "monday\n",
      "tuesday\n",
      "wednesday\n",
      "thursday\n"
     ]
    }
   ],
   "source": [
    "# Sử dụng list\n",
    "[1,2,3,4,5,6]\n",
    "['python', 'hello']\n",
    "[12344,5667,-25,35.6]\n",
    "['fdsgf',3455,[2,3,4,5]]\n",
    "\n",
    "\n",
    "weekdays = ['monday','tuesday','wednesday','thursday']\n",
    "\n",
    "for day in weekdays:\n",
    "    print(day)\n",
    "print('-'*20)\n",
    "\n",
    "for i in range(len(weekdays)):\n",
    "    print(weekdays[i])"
   ]
  },
  {
   "cell_type": "markdown",
   "metadata": {},
   "source": [
    "### Thực hành: Viết chương trình tạo ra một list các string khác nhau và đếm tổng số lượng string dài hơn 3 kí tự"
   ]
  },
  {
   "cell_type": "code",
   "execution_count": 3,
   "metadata": {},
   "outputs": [
    {
     "name": "stdout",
     "output_type": "stream",
     "text": [
      "3\n"
     ]
    }
   ],
   "source": [
    "num = ['one', 'two','2354','four','seven']\n",
    "tong = 0\n",
    "for i in num:\n",
    "    if len(i) > 3:\n",
    "        tong += 1\n",
    "print(tong)   "
   ]
  },
  {
   "cell_type": "markdown",
   "metadata": {},
   "source": [
    "### Thực hành 2: Viết chương trình nhận vào 2 list và trả về True nếu 2 list có ít nhất 1 phần tử chung, ngược lại trả về False"
   ]
  },
  {
   "cell_type": "code",
   "execution_count": 2,
   "metadata": {},
   "outputs": [],
   "source": [
    "n1 = [1997,1995,1999,2000]\n",
    "n2 = [1994,1995,1996,1997,1990]\n",
    "\n",
    "for i in range(len(n1)):\n",
    "    for j in range(len(n2)):\n",
    "        if n1[i] == n2[j]:\n",
    "            continue\n",
    "            print(False)     "
   ]
  },
  {
   "cell_type": "markdown",
   "metadata": {},
   "source": [
    "## Các thao tác cơ bản với list"
   ]
  },
  {
   "cell_type": "markdown",
   "metadata": {},
   "source": [
    "### Kiểm tra độ dài list"
   ]
  },
  {
   "cell_type": "code",
   "execution_count": 20,
   "metadata": {},
   "outputs": [
    {
     "name": "stdout",
     "output_type": "stream",
     "text": [
      "5\n"
     ]
    }
   ],
   "source": [
    "num = ['one', 'two','2354','four','seven']\n",
    "print(len(num))"
   ]
  },
  {
   "cell_type": "markdown",
   "metadata": {},
   "source": [
    "### Truy cập phần tử trên list"
   ]
  },
  {
   "cell_type": "code",
   "execution_count": 21,
   "metadata": {},
   "outputs": [
    {
     "name": "stdout",
     "output_type": "stream",
     "text": [
      "seven\n"
     ]
    }
   ],
   "source": [
    "print(num[4])\n"
   ]
  },
  {
   "cell_type": "markdown",
   "metadata": {},
   "source": [
    "### Thực hành: Tạo một list 10 số tự nhiên và in ra các phần tử trong list"
   ]
  },
  {
   "cell_type": "code",
   "execution_count": 26,
   "metadata": {},
   "outputs": [
    {
     "name": "stdout",
     "output_type": "stream",
     "text": [
      "1 2 3 4 5 6 7 8 9 10 "
     ]
    }
   ],
   "source": [
    "num = [1,2,3,4,5,6,7,8,9,10]\n",
    "for i in num:\n",
    "    print(i, end= ' ')"
   ]
  },
  {
   "cell_type": "markdown",
   "metadata": {},
   "source": [
    "### Thực hành 2: Tạo ra một list con chưa 2 phần tử cuối cùng từ list đã tạo ở trên"
   ]
  },
  {
   "cell_type": "code",
   "execution_count": 10,
   "metadata": {},
   "outputs": [
    {
     "name": "stdout",
     "output_type": "stream",
     "text": [
      "[8, 9]\n",
      "[8, 9]\n"
     ]
    }
   ],
   "source": [
    "num = [1,2,3,4,5,6,7,8,9]\n",
    "sub_list = [num[-2],num[-1]]\n",
    "print(sub_list)\n",
    "\n",
    "sublist = [num[len(num)-2],num[len(num)-1]]\n",
    "\n",
    "sublist = num[-2:]\n",
    "print(sublist)"
   ]
  },
  {
   "cell_type": "markdown",
   "metadata": {},
   "source": [
    "### Cộng list"
   ]
  },
  {
   "cell_type": "code",
   "execution_count": 11,
   "metadata": {},
   "outputs": [
    {
     "name": "stdout",
     "output_type": "stream",
     "text": [
      "[1, 2, 3, 4, 5, 6, 7, 8, 9, 1, 2, 3, 4, 5, 6, 7, 8, 9]\n"
     ]
    }
   ],
   "source": [
    "num = [1,2,3,4,5,6,7,8,9]\n",
    "num2 = [1,2,3,4,5,6,7,8,9]\n",
    "a = num + num2\n",
    "print(a)"
   ]
  },
  {
   "cell_type": "markdown",
   "metadata": {},
   "source": [
    "### Thực hành: Thêm học sinh vào lớp"
   ]
  },
  {
   "cell_type": "code",
   "execution_count": 27,
   "metadata": {},
   "outputs": [
    {
     "name": "stdout",
     "output_type": "stream",
     "text": [
      "['a', 'b', 'c', 'd', 'e', 'F']\n",
      "['a', 'b', 'c', 'd', 'gina']\n",
      "['a', 'b', 'c', 'd', 'gina', 'e', 'F']\n",
      "['a', 'b', 'c', 'd', 'gina', 'e']\n"
     ]
    }
   ],
   "source": [
    "#tạo list chứa tên của 4 hs khác nhau và list hs mới chưa tên 2 hs mới vào lớp\n",
    "\n",
    "list_st = [\"a\",\"b\",\"c\",\"d\"]\n",
    "list_new = [\"e\", \"F\"]\n",
    "list_ds = list_st + list_new\n",
    "print(list_ds)\n",
    "\n",
    "list_st.append(\"gina\")\n",
    "print(list_st)\n",
    "\n",
    "list_st.extend(list_new)\n",
    "print(list_st)\n",
    "\n",
    "list_st.pop()\n",
    "print(list_st)"
   ]
  },
  {
   "cell_type": "markdown",
   "metadata": {},
   "source": [
    "### Kiểm tra phần tử tồn tại trong list"
   ]
  },
  {
   "cell_type": "code",
   "execution_count": 14,
   "metadata": {},
   "outputs": [
    {
     "name": "stdout",
     "output_type": "stream",
     "text": [
      "True\n"
     ]
    }
   ],
   "source": [
    "danh_sach_lop = ['Trung', 'Tâm', 'Dũng', 'Hoa', 'Thiện', 'Cảnh']\n",
    "print('Trung' in danh_sach_lop)\n"
   ]
  },
  {
   "cell_type": "markdown",
   "metadata": {},
   "source": [
    "### Xóa phần tử khỏi list"
   ]
  },
  {
   "cell_type": "code",
   "execution_count": 1,
   "metadata": {},
   "outputs": [
    {
     "name": "stdout",
     "output_type": "stream",
     "text": [
      "[2, 3, 4, 5, 6, 7, 8, 9]\n",
      "[1, 2, 3, 5, 6, 7, 8, 9]\n"
     ]
    }
   ],
   "source": [
    "num = [1,2,3,4,5,6,7,8,9]\n",
    "num.remove(1)\n",
    "print(num)\n",
    "\n",
    "num = [1,2,3,4,5,6,7,8,9]\n",
    "del num[3]\n",
    "print(num)"
   ]
  },
  {
   "cell_type": "markdown",
   "metadata": {},
   "source": [
    "### Sắp xếp list"
   ]
  },
  {
   "cell_type": "code",
   "execution_count": 19,
   "metadata": {
    "scrolled": true
   },
   "outputs": [
    {
     "name": "stdout",
     "output_type": "stream",
     "text": [
      "list after sort: [3, 5, 6, 8, 9, 25, 26, 34, 38, 75, 89]\n",
      "list after sort: [89, 75, 38, 34, 26, 25, 9, 8, 6, 5, 3]\n"
     ]
    }
   ],
   "source": [
    "a =[3,8,6,9,5,25,89,34,26,75,38]\n",
    "#sắp xếp \n",
    "a.sort()\n",
    "print(f'list after sort: {a}')\n",
    "\n",
    "a.sort(reverse =True)\n",
    "print(f'list after sort: {a}')"
   ]
  },
  {
   "cell_type": "code",
   "execution_count": 20,
   "metadata": {},
   "outputs": [
    {
     "data": {
      "text/plain": [
       "[3, 5, 6, 8, 9, 25, 26, 34, 38, 75, 89]"
      ]
     },
     "execution_count": 20,
     "metadata": {},
     "output_type": "execute_result"
    }
   ],
   "source": [
    "a =[3,8,6,9,5,25,89,34,26,75,38]\n",
    "#sắp xếp không thay đổi giá trị của a\n",
    "sorted(a)"
   ]
  },
  {
   "cell_type": "markdown",
   "metadata": {},
   "source": [
    "### Làm rỗng list"
   ]
  },
  {
   "cell_type": "code",
   "execution_count": 21,
   "metadata": {},
   "outputs": [
    {
     "name": "stdout",
     "output_type": "stream",
     "text": [
      "[]\n"
     ]
    }
   ],
   "source": [
    "a =[3,8,6,9,5,25,89,34,26,75,38]\n",
    "\n",
    "a.clear()\n",
    "print(a)"
   ]
  },
  {
   "cell_type": "markdown",
   "metadata": {},
   "source": [
    "### Copy list"
   ]
  },
  {
   "cell_type": "code",
   "execution_count": 22,
   "metadata": {},
   "outputs": [],
   "source": [
    "a =[3,8,6,9,5,25,89,34,26,75,38]\n",
    "e = a.copy()"
   ]
  },
  {
   "cell_type": "markdown",
   "metadata": {},
   "source": [
    "## tuple"
   ]
  },
  {
   "cell_type": "code",
   "execution_count": 30,
   "metadata": {},
   "outputs": [
    {
     "name": "stdout",
     "output_type": "stream",
     "text": [
      "python\n",
      "3-5-7\n",
      "2\n"
     ]
    }
   ],
   "source": [
    "info = ('python','3-5-7',2)\n",
    "course_name, day, duration =info\n",
    "print(course_name)\n",
    "print(day)\n",
    "print(duration)"
   ]
  }
 ],
 "metadata": {
  "kernelspec": {
   "display_name": "Python 3 (ipykernel)",
   "language": "python",
   "name": "python3"
  },
  "language_info": {
   "codemirror_mode": {
    "name": "ipython",
    "version": 3
   },
   "file_extension": ".py",
   "mimetype": "text/x-python",
   "name": "python",
   "nbconvert_exporter": "python",
   "pygments_lexer": "ipython3",
   "version": "3.10.2"
  }
 },
 "nbformat": 4,
 "nbformat_minor": 4
}
