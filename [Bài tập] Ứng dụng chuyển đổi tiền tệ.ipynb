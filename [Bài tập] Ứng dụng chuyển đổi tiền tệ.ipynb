{
 "cells": [
  {
   "cell_type": "code",
<<<<<<< HEAD
   "execution_count": 2,
   "id": "634f7ec7",
=======
   "execution_count": 1,
   "id": "93311643",
>>>>>>> 057b8c4cfa9aef9e5e4195a4ad5160df3f0d6c55
   "metadata": {},
   "outputs": [
    {
     "name": "stdout",
     "output_type": "stream",
     "text": [
<<<<<<< HEAD
      "nhập số tiền VND: 5000000\n",
      "nhập tỷ giá USD/VND: 20000\n",
      "250.0\n"
=======
      "nhập số tiền: 500\n",
      "nhập tỷ giá: 22000\n",
      "11000000\n"
>>>>>>> 057b8c4cfa9aef9e5e4195a4ad5160df3f0d6c55
     ]
    }
   ],
   "source": [
<<<<<<< HEAD
    "    #[Bài tập] Ứng dụng chuyển đổi tiền tệ\n",
=======
>>>>>>> 057b8c4cfa9aef9e5e4195a4ad5160df3f0d6c55
    "# Bước 1: Nhập số tiền USD cần đổi\n",
    "\n",
    "# Bước 2: Nhập tỉ giá USD/VND \n",
    "\n",
    "# Bước 3: Tính toán ra số tiền VND theo tỉ giá và số tiền USD nhập vào bên trên\n",
    "\n",
<<<<<<< HEAD
    "# # Bước 4: In ra kết quả\n",
    "\n",
    "VND = float(input(\"nhập số tiền VND: \"))\n",
    "ex = float(input(\"nhập tỷ giá USD/VND: \"))\n",
    "\n",
    "USD = VND / ex\n",
    "\n",
    "print(USD)"
=======
    "#  Bước 4: In ra kết quả\n",
    "\n",
    "USD = int(input(\"nhập số tiền: \"))\n",
    "ex = int(input(\"nhập tỷ giá: \"))\n",
    "\n",
    "VND = USD * ex\n",
    "\n",
    "print(VND)"
>>>>>>> 057b8c4cfa9aef9e5e4195a4ad5160df3f0d6c55
   ]
  }
 ],
 "metadata": {
  "kernelspec": {
   "display_name": "Python 3 (ipykernel)",
   "language": "python",
   "name": "python3"
  },
  "language_info": {
   "codemirror_mode": {
    "name": "ipython",
    "version": 3
   },
   "file_extension": ".py",
   "mimetype": "text/x-python",
   "name": "python",
   "nbconvert_exporter": "python",
   "pygments_lexer": "ipython3",
   "version": "3.10.2"
  }
 },
 "nbformat": 4,
 "nbformat_minor": 5
}
