{
 "cells": [
  {
   "cell_type": "code",
   "execution_count": 20,
   "id": "f7784a90",
   "metadata": {
    "scrolled": true
   },
   "outputs": [
    {
     "name": "stdout",
     "output_type": "stream",
     "text": [
      "nhập a: 60\n"
     ]
    }
   ],
   "source": [
    "# Sử dụng lệnh forward để tiến về phía trước 1 khoảng d nào đó\n",
    "# Sau đó sử dụng left (xoắn ngược kim đồng hồ) hoặc right (xoắn cùng chiều kim đồng hồ) để  điều khiển hướng bút theo đường xoắn\n",
    "# Tăng giá trị d lên một chút (mục đích để mở rộng vòng xoắn, nếu không tăng d thì chỉ vẽ được vòng tròn)\n",
    "# Dùng hàm distance để tính khoảng cách từ điểm hiện tại đến điểm ban đầu (trước khi cho rùa di chuyển phải lưu lại vị trí điểm ban đầu này, mặc định điểm này là 0, 0). \n",
    "# Nếu khoảng cách tính được lớn hơn giá trị ban đầu nhập vào, dùng break thoát khỏi vòng lặp và kết thúc chương trình.\n",
    "\n",
    "import turtle\n",
    "p = turtle.Turtle()\n",
    "import math\n",
    "p.speed(10)\n",
    "\n",
    "a = int(input('nhập a: '))\n",
    "i = 0\n",
    "while True:\n",
    "    p.forward(i)\n",
    "    p.left(20)\n",
    "    i +=1\n",
    "    if i > a:\n",
    "        break\n",
    "turtle.done()"
   ]
  }
 ],
 "metadata": {
  "kernelspec": {
   "display_name": "Python 3 (ipykernel)",
   "language": "python",
   "name": "python3"
  },
  "language_info": {
   "codemirror_mode": {
    "name": "ipython",
    "version": 3
   },
   "file_extension": ".py",
   "mimetype": "text/x-python",
   "name": "python",
   "nbconvert_exporter": "python",
   "pygments_lexer": "ipython3",
   "version": "3.10.2"
  }
 },
 "nbformat": 4,
 "nbformat_minor": 5
}
