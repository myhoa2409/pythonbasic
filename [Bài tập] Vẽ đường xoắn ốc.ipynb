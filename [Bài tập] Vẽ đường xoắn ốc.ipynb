{
 "cells": [
  {
   "cell_type": "code",
   "execution_count": null,
   "id": "f7784a90",
   "metadata": {},
   "outputs": [],
   "source": [
    "# Sử dụng lệnh forward để tiến về phía trước 1 khoảng d nào đó\n",
    "# Sau đó sử dụng left (xoắn ngược kim đồng hồ) hoặc right (xoắn cùng chiều kim đồng hồ) để  điều khiển hướng bút theo đường xoắn\n",
    "# Tăng giá trị d lên một chút (mục đích để mở rộng vòng xoắn, nếu không tăng d thì chỉ vẽ được vòng tròn)\n",
    "# Dùng hàm distance để tính khoảng cách từ điểm hiện tại đến điểm ban đầu (trước khi cho rùa di chuyển phải lưu lại vị trí điểm ban đầu này, mặc định điểm này là 0, 0). \n",
    "# Nếu khoảng cách tính được lớn hơn giá trị ban đầu nhập vào, dùng break thoát khỏi vòng lặp và kết thúc chương trình.\n",
    "\n",
    "import turtle\n",
    "import random as r\n",
    "\n",
    "t = turtle.Turtle()\n",
    "t.hideturtle()\n",
    "t.penup()\n",
    "t.goto(0, 0)\n",
    "\n",
    "t.speed(10)\n",
    "t.pensize(10)\n",
    "t.pencolor(\"black\")\n",
    "t.pendown()\n",
    "d = r.\n",
    "t.circle(200)\n",
    "\n",
    "t.penup()\n",
    "t.speed(10)\n",
    "t.shape(\"turtle\")\n",
    "t.pencolor('green')\n",
    "t.goto(0, 0)\n",
    "\n",
    "angle = r.randint(0, 360)\n",
    "t.right(angle)\n",
    "t.showturtle()\n",
    "\n",
    "count = 0\n",
    "while True:\n",
    "    t.speed(1)\n",
    "    t.forward(188)\n",
    "    t.hideturtle()\n",
    "    t.speed(10)\n",
    "    t.goto(0, 0)\n",
    "    angle = r.randint(0, 360)\n",
    "    t.right(angle)\n",
    "    t.showturtle()\n",
    "    count += 1\n",
    "    if count == 10:\n",
    "        break\n",
    "\n",
    "turtle.done()  \n",
    "    "
   ]
  }
 ],
 "metadata": {
  "kernelspec": {
   "display_name": "Python 3 (ipykernel)",
   "language": "python",
   "name": "python3"
  },
  "language_info": {
   "codemirror_mode": {
    "name": "ipython",
    "version": 3
   },
   "file_extension": ".py",
   "mimetype": "text/x-python",
   "name": "python",
   "nbconvert_exporter": "python",
   "pygments_lexer": "ipython3",
   "version": "3.10.2"
  }
 },
 "nbformat": 4,
 "nbformat_minor": 5
}
