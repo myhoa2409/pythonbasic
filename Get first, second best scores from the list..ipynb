{
 "cells": [
  {
   "cell_type": "code",
   "execution_count": 55,
   "id": "7cb99e1f",
   "metadata": {},
   "outputs": [
    {
     "name": "stdout",
     "output_type": "stream",
     "text": [
      "[89, 75, 38, 34, 26, 25, 9, 8, 6, 5, 3]\n",
      "[89, 75]\n"
     ]
    }
   ],
   "source": [
    "# Mô tả\n",
    "# Khởi  tạo một list chứa các số cho trước. Tìm hai số lớn nhất của list vừa tạo được\n",
    "a =[3,8,6,9,5,25,89,34,26,75,38]\n",
    "# Hướng dẫn\n",
    "# C1: Sắp xếp list theo thứ tự tăng dần, sau đó lấy các phần tử có chỉ số -1 và -2\n",
    "a.sort(reverse =True)\n",
    "print(a)\n",
    "b=[]\n",
    "for i in range(2):\n",
    "    b.append(a[i])\n",
    "print(b)\n",
    "# C2: Sắp xếp list theo thứ tự giảm dần, sau đó lấy các phần tử có chỉ số 0 và 1\n",
    "\n",
    "# Lưu ý: Các trường hợp list có ít hơn 2 phần tử…\n"
   ]
  }
 ],
 "metadata": {
  "kernelspec": {
   "display_name": "Python 3 (ipykernel)",
   "language": "python",
   "name": "python3"
  },
  "language_info": {
   "codemirror_mode": {
    "name": "ipython",
    "version": 3
   },
   "file_extension": ".py",
   "mimetype": "text/x-python",
   "name": "python",
   "nbconvert_exporter": "python",
   "pygments_lexer": "ipython3",
   "version": "3.10.2"
  }
 },
 "nbformat": 4,
 "nbformat_minor": 5
}
