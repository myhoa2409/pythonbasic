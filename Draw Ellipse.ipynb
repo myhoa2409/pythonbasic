{
 "cells": [
  {
   "cell_type": "code",
   "execution_count": 9,
   "id": "6fed5fbe",
   "metadata": {},
   "outputs": [],
   "source": [
    "import turtle\n",
    "screen = turtle.Screen()\n",
    "\n",
    "def draw(rad):\n",
    "     \n",
    "    for i in range(2):\n",
    "        turtle.circle(rad,90)\n",
    "        turtle.circle(rad//2,90)\n",
    "        \n",
    "screen.setup(500,500)\n",
    " \n",
    "\n",
    "screen.bgcolor('black')\n",
    " \n",
    "\n",
    "col=['violet','blue','green','yellow',\n",
    "     'orange','red']\n",
    " \n",
    "\n",
    "val=10\n",
    "ind=0\n",
    " \n",
    "\n",
    "turtle.speed(100)\n",
    " \n",
    "\n",
    "for i in range(36):\n",
    "     \n",
    "    turtle.seth(-val)\n",
    "     \n",
    "    \n",
    "    turtle.color(col[ind])\n",
    "     \n",
    "    \n",
    "    if ind==5:\n",
    "        ind=0\n",
    "    else:\n",
    "        ind+=1\n",
    "     \n",
    "    \n",
    "    draw(80)\n",
    "     \n",
    "    \n",
    "    val+=10\n",
    " \n",
    "\n",
    "turtle.hideturtle()\n",
    "turtle.done()"
   ]
  }
 ],
 "metadata": {
  "kernelspec": {
   "display_name": "Python 3 (ipykernel)",
   "language": "python",
   "name": "python3"
  },
  "language_info": {
   "codemirror_mode": {
    "name": "ipython",
    "version": 3
   },
   "file_extension": ".py",
   "mimetype": "text/x-python",
   "name": "python",
   "nbconvert_exporter": "python",
   "pygments_lexer": "ipython3",
   "version": "3.10.2"
  }
 },
 "nbformat": 4,
 "nbformat_minor": 5
}
