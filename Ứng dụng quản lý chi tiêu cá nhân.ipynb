{
 "cells": [
  {
   "cell_type": "code",
   "execution_count": 15,
   "id": "104b761a",
   "metadata": {
    "scrolled": true
   },
   "outputs": [
    {
     "name": "stdout",
     "output_type": "stream",
     "text": [
      "What do you want to do? -\n",
      "1. Add\n",
      "2. Remove\n",
      "Select option 1 or 2: 2\n",
      "Item name: study\n",
      "['game', 'enter']\n"
     ]
    }
   ],
   "source": [
    "#thêm mục chi tiêu\n",
    "mylist = [\"game\", 'study',\"enter\"]\n",
    "def add_item(item):\n",
    "    mylist.append(item)\n",
    "\n",
    "#tìm mục chi tiêu có trong lsit\n",
    "def find_item(item):\n",
    "    result = -1\n",
    "    for i in range(len(mylist)):\n",
    "        if mylist[i] == item:\n",
    "            result = i\n",
    "            return result\n",
    "\n",
    "def remove_item(item):\n",
    "    if find_item(item) > -1:\n",
    "        del mylist[find_item(item)] \n",
    "        print(mylist) \n",
    "    else:\n",
    "        print(\"none\")\n",
    "\n",
    "print(\"What do you want to do? -\\n\"\\\n",
    "        \"1. Add\\n\" \\\n",
    "        \"2. Remove\")\n",
    "option = int(input(\"Select option 1 or 2: \"))\n",
    "item = input(\"Item name: \")\n",
    "\n",
    "if option == 1:\n",
    "    cost_input = int(input(\"Item cost: \"))\n",
    "    date_input = input(\"Date: \")\n",
    "    item = {'name': item, 'cost':cost_input, 'date':date_input}\n",
    "    add_item(item)\n",
    "    print(mylist)\n",
    "    \n",
    "elif option == 2:\n",
    "    remove_item(item)\n",
    "    \n",
    "else:\n",
    "    print(\"Invalid input\")\n"
   ]
  }
 ],
 "metadata": {
  "kernelspec": {
   "display_name": "Python 3 (ipykernel)",
   "language": "python",
   "name": "python3"
  },
  "language_info": {
   "codemirror_mode": {
    "name": "ipython",
    "version": 3
   },
   "file_extension": ".py",
   "mimetype": "text/x-python",
   "name": "python",
   "nbconvert_exporter": "python",
   "pygments_lexer": "ipython3",
   "version": "3.10.2"
  }
 },
 "nbformat": 4,
 "nbformat_minor": 5
}
