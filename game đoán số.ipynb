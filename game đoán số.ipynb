{
 "cells": [
  {
   "cell_type": "code",
   "execution_count": 4,
   "id": "c615591e",
   "metadata": {},
   "outputs": [
    {
     "name": "stdout",
     "output_type": "stream",
     "text": [
      "nhập số bất kỳ: 8\n",
      "dự đoán đúng\n"
     ]
    }
   ],
   "source": [
    "#[Thực hành] Thuật toán game đoán số\n",
    "\n",
    "# Begin\n",
    "#   N là số được sinh số ngẫu nhiên trong khoảng 0-9\n",
    "#   Nhập vào M\n",
    "#   IF (N==M)\n",
    "#     Display \"Dự đoán đúng\"         \n",
    "#   ELSE             \n",
    "#     Display \"Dự đoán sai\"\n",
    "# End\n",
    "\n",
    "N = 8\n",
    "M = int(input(\"nhập số bất kỳ: \"))\n",
    "if M == N:\n",
    "    print(\"dự đoán đúng\")\n",
    "else:\n",
    "    print(\"dự đoán sai\")\n"
   ]
  }
 ],
 "metadata": {
  "kernelspec": {
   "display_name": "Python 3 (ipykernel)",
   "language": "python",
   "name": "python3"
  },
  "language_info": {
   "codemirror_mode": {
    "name": "ipython",
    "version": 3
   },
   "file_extension": ".py",
   "mimetype": "text/x-python",
   "name": "python",
   "nbconvert_exporter": "python",
   "pygments_lexer": "ipython3",
   "version": "3.10.2"
  }
 },
 "nbformat": 4,
 "nbformat_minor": 5
}
