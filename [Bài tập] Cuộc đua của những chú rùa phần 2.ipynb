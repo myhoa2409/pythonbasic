{
 "cells": [
  {
   "cell_type": "code",
   "execution_count": 19,
   "id": "f1238770",
   "metadata": {
    "scrolled": true
   },
   "outputs": [
    {
     "name": "stdout",
     "output_type": "stream",
     "text": [
      "rùa <turtle.Turtle object at 0x000001C2127DB940> thắng, tốc độ 5\n"
     ]
    },
    {
     "ename": "AttributeError",
     "evalue": "'int' object has no attribute 'done'",
     "output_type": "error",
     "traceback": [
      "\u001b[1;31m---------------------------------------------------------------------------\u001b[0m",
      "\u001b[1;31mAttributeError\u001b[0m                            Traceback (most recent call last)",
      "Input \u001b[1;32mIn [19]\u001b[0m, in \u001b[0;36m<module>\u001b[1;34m\u001b[0m\n\u001b[0;32m     52\u001b[0m \u001b[38;5;66;03m# Chương trình kết thúc khi click\u001b[39;00m\n\u001b[0;32m     53\u001b[0m \u001b[38;5;66;03m# chuột lên màn hình\u001b[39;00m\n\u001b[0;32m     54\u001b[0m screen\u001b[38;5;241m.\u001b[39mexitonclick()\n\u001b[1;32m---> 55\u001b[0m \u001b[43mturtle\u001b[49m\u001b[38;5;241;43m.\u001b[39;49m\u001b[43mdone\u001b[49m()\n",
      "\u001b[1;31mAttributeError\u001b[0m: 'int' object has no attribute 'done'"
     ]
    }
   ],
   "source": [
    "import turtle as t\n",
    "import random\n",
    "# Tạo và quy định dài rộng của đường đua\n",
    "# và các tham số\n",
    "screen = t.Screen()\n",
    "screen.setup(height=500, width=600)\n",
    "# Hiển thị cửa sổ cho phép người dùng đoán\n",
    "# con rùa màu nào thắng cuộc\n",
    "guess = screen.textinput(prompt=\"Dự đoán con rùa nào chiến thắng?\", title=\"Nhập vào màu rùa (đỏ, nâu, xanh dương, xanh lá cây, cam, hồng)\")\n",
    "# List lưu lại màu của các con rùa\n",
    "colors = [\"red\", \"brown\", \"blue\", \"green\", \"orange\", \"pink\"]\n",
    "# Vị trí ban đầu theo trục y của các con rùa\n",
    "# Theo trục x = -250, cách vị trí 0,0 250 về bên trái\n",
    "y_position = [0, -30, 30, -60, 60, 90]\n",
    "# List lưu lại vận tốc của các con rùa\n",
    "# các giá trị này sẽ được chọn một cách ngẫu nhiên\n",
    "# cho các con rùa khi chạy\n",
    "turtle_speed = [10, 15, 20, 25, 30, 5]\n",
    "\n",
    "# Tạo một list để lưu các con rùa\n",
    "all_turtles = []\n",
    "run = True\n",
    "\n",
    "# Xây dựng hàm để tạo và thiết đặt vị trí ban\n",
    "# đầu, màu cho các con rùa và lưu vào list\n",
    "for turtle in range(0, 6):\n",
    "    turtles = t.Turtle(shape=\"turtle\")\n",
    "    turtles.penup()\n",
    "    # Di chuyển rùa về vị trí ban đầu,\n",
    "    # bên trái cùng của đường đua\n",
    "    turtles.goto(x=-250, y=y_position[turtle])\n",
    "    # Màu của rùa\n",
    "    turtles.color(colors[turtle])\n",
    "    # Lưu vào list\n",
    "    all_turtles.append(turtles)\n",
    "# Xây dựng hàm di chuyển về đích của\n",
    "# mỗi con rùa, khoảng cách di chuyển được\n",
    "# chọn ngẫu nhiên trong các giá trị\n",
    "# được lưu trong list phía trên\n",
    "def random_walk(turtles):\n",
    "    global run\n",
    "    for turtle in turtles:\n",
    "        turtle.forward(random.choice(turtle_speed))\n",
    "        # Kiểm tra điều kiện cán đích\n",
    "        # Khi 1 con cán đích thì dừng lại\n",
    "        if turtle.xcor() > 250:\n",
    "            run = False \n",
    "            \n",
    "while run:\n",
    "    random_walk(all_turtles)\n",
    "print(f'rùa {all_turtles[turtle]} thắng, tốc độ {turtle_speed[turtle]}') \n",
    "# Chương trình kết thúc khi click\n",
    "# chuột lên màn hình\n",
    "screen.exitonclick()\n",
    "turtle.done()"
   ]
  }
 ],
 "metadata": {
  "kernelspec": {
   "display_name": "Python 3 (ipykernel)",
   "language": "python",
   "name": "python3"
  },
  "language_info": {
   "codemirror_mode": {
    "name": "ipython",
    "version": 3
   },
   "file_extension": ".py",
   "mimetype": "text/x-python",
   "name": "python",
   "nbconvert_exporter": "python",
   "pygments_lexer": "ipython3",
   "version": "3.10.2"
  }
 },
 "nbformat": 4,
 "nbformat_minor": 5
}
