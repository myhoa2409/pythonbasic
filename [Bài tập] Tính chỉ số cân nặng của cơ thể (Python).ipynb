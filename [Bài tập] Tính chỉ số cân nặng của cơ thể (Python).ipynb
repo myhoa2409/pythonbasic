{
 "cells": [
  {
   "cell_type": "code",
   "execution_count": 2,
   "id": "265243dc",
   "metadata": {},
   "outputs": [
    {
     "name": "stdout",
     "output_type": "stream",
     "text": [
      "nhập chiều cao: 165\n",
      "nhập cân nặng: 65\n",
      "Bình thường\n"
     ]
    }
   ],
   "source": [
    "# BMI = cân nặng / (chiều cao ^ 2)\n",
    "\n",
    "# Trong đó cân nặng tính bằng kg và chiều cao tính bằng m\n",
    "\n",
    "# Chỉ số BMI đối với người trên 20 tuổi được phân loại và diễn giải theo bảng sau:\n",
    "\n",
    "# BMI < 16: Gầy cấp độ III\n",
    "# 16 <= BMI < 17:  Gầy cấp độ II\n",
    "# 17<= BMI < 18.5: Gầy cấp độ I\n",
    "# 18.5 <= BMI < 25: Bình thường\n",
    "# 25 <= BMI < 30: Thừa cân\n",
    "# 30 <= BMI < 35 : Béo phì cấp độ I\n",
    "# 35 <= BMI < 40: Béo phì cấp độ II\n",
    "# BMI > 40: Béo phì cấp độ III\n",
    "\n",
    "cm = int(input('nhập chiều cao: '))\n",
    "kg = int(input('nhập cân nặng: '))\n",
    "\n",
    "bmi = kg / (cm/100)**2\n",
    "\n",
    "if bmi > 40:\n",
    "    print(\"Béo phì cấp độ III\")\n",
    "elif bmi>= 35:\n",
    "    print(\"Béo phì cấp độ II\")\n",
    "elif bmi>= 30:\n",
    "    print(\"Béo phì cấp độ I\")\n",
    "elif bmi>= 25:\n",
    "    print(\"Thừa cân\")\n",
    "elif bmi>= 18.5:\n",
    "    print(\"Bình thường\")\n",
    "elif bmi>= 17:\n",
    "    print(\"Gầy cấp độ I\")\n",
    "elif bmi>= 16:\n",
    "    print(\"Gầy cấp độ II\")\n",
    "else:\n",
    "    print(\"Gầy cấp độ III\")"
   ]
  }
 ],
 "metadata": {
  "kernelspec": {
   "display_name": "Python 3 (ipykernel)",
   "language": "python",
   "name": "python3"
  },
  "language_info": {
   "codemirror_mode": {
    "name": "ipython",
    "version": 3
   },
   "file_extension": ".py",
   "mimetype": "text/x-python",
   "name": "python",
   "nbconvert_exporter": "python",
   "pygments_lexer": "ipython3",
   "version": "3.10.2"
  }
 },
 "nbformat": 4,
 "nbformat_minor": 5
}
